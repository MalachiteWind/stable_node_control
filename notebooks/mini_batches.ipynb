{
 "cells": [
  {
   "cell_type": "code",
   "execution_count": 2,
   "id": "d457c023-c34b-493a-9182-e8a05bdeb048",
   "metadata": {},
   "outputs": [],
   "source": [
    "import torch\n",
    "from torchdiffeq import odeint\n",
    "import torch.nn as nn\n",
    "\n",
    "# Define control_func (dummy example for testing)\n",
    "control_func = lambda t: torch.tensor([0.1])\n",
    "\n",
    "# Define f and g as required by StabNODE\n",
    "class Felu(nn.Module):\n",
    "    def __init__(self, dim_in, dim_out, hidden_dim=2):\n",
    "        super().__init__()\n",
    "        self.network = nn.Sequential(\n",
    "            nn.Linear(dim_in, hidden_dim),\n",
    "            nn.ELU(),\n",
    "            nn.Linear(hidden_dim, dim_out),\n",
    "        )\n",
    "    def forward(self, x):\n",
    "        return -torch.exp(self.network(x))\n",
    "\n",
    "class Gelu(nn.Module):\n",
    "    def __init__(self, dim_in, dim_out, hidden_dim=2):\n",
    "        super().__init__()\n",
    "        self.network = nn.Sequential(\n",
    "            nn.Linear(dim_in, hidden_dim),\n",
    "            nn.ELU(),\n",
    "            nn.Linear(hidden_dim, dim_out),\n",
    "            nn.Tanh(),\n",
    "        )\n",
    "    def forward(self, x, u):\n",
    "        xu = torch.cat([x, u], dim=-1)\n",
    "        return self.network(xu)\n",
    "\n",
    "class StabNODE(nn.Module):\n",
    "    def __init__(self, f, g):\n",
    "        super().__init__()\n",
    "        self.f = f\n",
    "        self.g = g\n",
    "    def forward(self, t, state, u_func):\n",
    "        x = state\n",
    "        u = u_func(t).unsqueeze(0)  # Ensure u is reshaped for batching consistency\n",
    "        fx = self.f(x)\n",
    "        gx = self.g(x, u)\n",
    "        return fx * (x - gx)\n",
    "\n",
    "# Instantiate f and g modules\n",
    "f = Felu(dim_in=1, dim_out=1)\n",
    "g = Gelu(dim_in=2, dim_out=1)\n",
    "\n",
    "# Instantiate the StabNODE model\n",
    "model = StabNODE(f=f, g=g)\n",
    "\n",
    "# Sample data for testing\n",
    "x0_batch = torch.tensor([0.5, 1.0, 1.5]).reshape(-1, 1)  # Batch of initial conditions (reshaped for consistency)\n",
    "t_batch = torch.tensor([\n",
    "    [0., 1., 2., 3.],\n",
    "    [0., 0.5, 1., 1.5],\n",
    "    [0., 0.75, 1.5, 2.25]\n",
    "])  # Batch of t_spans (2D tensor).\n"
   ]
  },
  {
   "cell_type": "code",
   "execution_count": 4,
   "id": "7ff1f523-69ef-42ee-afb7-1f0d353d291e",
   "metadata": {},
   "outputs": [
    {
     "name": "stdout",
     "output_type": "stream",
     "text": [
      "tensor([0., 1., 2., 3.])\n",
      "Batch of predicted trajectories:\n",
      "tensor([[0.5000, 1.0000, 1.5000],\n",
      "        [0.3475, 0.5263, 0.7340],\n",
      "        [0.2977, 0.3563, 0.4282],\n",
      "        [0.2818, 0.3005, 0.3237]], grad_fn=<SqueezeBackward0>)\n"
     ]
    }
   ],
   "source": [
    "\n",
    "# Define batched ODE integration\n",
    "def batched_odeint(x0_batch, t_batch):\n",
    "    batch_size = x0_batch.size(0)\n",
    "    \n",
    "    # Time spans need to be uniform for all batches in odeint\n",
    "    t_span_uniform = torch.linspace(0., t_batch[:, -1].max(), steps=t_batch.size(1))\n",
    "    print(t_span_uniform)\n",
    "    \n",
    "    def batch_func(t, states):\n",
    "        u = control_func(t).repeat(states.size(0), 1)  # Repeat control function across batch\n",
    "        fx = model.f(states)\n",
    "        gx = model.g(states, u)\n",
    "        return fx * (states - gx)\n",
    "\n",
    "    # Batched integration\n",
    "    y0 = x0_batch.reshape(-1, 1)\n",
    "    trajectories = odeint(batch_func, y0, t_span_uniform, method='rk4') \n",
    "    \n",
    "    return trajectories.squeeze()\n",
    "\n",
    "# Solve batched ODEs\n",
    "x_pred_all = batched_odeint(x0_batch, t_batch)\n",
    "\n",
    "print(\"Batch of predicted trajectories:\")\n",
    "print(x_pred_all)"
   ]
  },
  {
   "cell_type": "code",
   "execution_count": null,
   "id": "ab9e9e75-501e-4589-94ed-e207675479b5",
   "metadata": {},
   "outputs": [],
   "source": []
  }
 ],
 "metadata": {
  "kernelspec": {
   "display_name": "Python [conda env:.conda-atscale] *",
   "language": "python",
   "name": "conda-env-.conda-atscale-py"
  },
  "language_info": {
   "codemirror_mode": {
    "name": "ipython",
    "version": 3
   },
   "file_extension": ".py",
   "mimetype": "text/x-python",
   "name": "python",
   "nbconvert_exporter": "python",
   "pygments_lexer": "ipython3",
   "version": "3.11.13"
  }
 },
 "nbformat": 4,
 "nbformat_minor": 5
}
