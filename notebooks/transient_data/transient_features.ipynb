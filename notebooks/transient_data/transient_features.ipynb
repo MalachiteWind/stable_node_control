{
 "cells": [
  {
   "cell_type": "code",
   "execution_count": 14,
   "id": "faf310eb-456d-42e9-8b84-a2c8039b6047",
   "metadata": {},
   "outputs": [],
   "source": [
    "from typing import Tuple, Optional\n",
    "from data.hysteresis import hysteresis_ode\n",
    "from data.utils import _load_wrapper\n",
    "import numpy as np\n",
    "\n",
    "from scipy.integrate import solve_ivp"
   ]
  },
  {
   "cell_type": "code",
   "execution_count": 16,
   "id": "d1c70199-ea47-4c96-bec1-eedccdef78c6",
   "metadata": {},
   "outputs": [],
   "source": [
    "def simulate_steady_state(\n",
    "    lam_values, \n",
    "    x0, \n",
    "    t_span:Tuple[float, float],\n",
    "    t_eval: Optional[np.ndarray] = None,\n",
    "    show_progress: bool = True):\n",
    "    \"\"\"\n",
    "    lam_values: control params \n",
    "    x0: initial state observation\n",
    "    t_span: start and stop time of ode solution \n",
    "    t_eval: Points at which to save results. Default is end of t_span\n",
    "    show_progress: Show progress bar (tqdm)\n",
    "    \n",
    "    \"\"\"\n",
    "    \n",
    "    x_vals = []\n",
    "    x_curr = x0\n",
    "\n",
    "    wrapper = _load_wrapper(show_progress)\n",
    "\n",
    "    if t_eval is None:\n",
    "        t_eval = [t_span[-1]]\n",
    "    \n",
    "    for lam in wrapper(lam_values):\n",
    "        sol = solve_ivp(hysteresis_ode, t_span, [x_curr], args=(lam,), t_eval=t_eval)\n",
    "        x_curr = sol.y[0, -1]  # final value\n",
    "        x_vals.append(x_curr)\n",
    "        \n",
    "    return np.array(x_vals)\n"
   ]
  },
  {
   "cell_type": "code",
   "execution_count": null,
   "id": "8e231925-4236-4c9d-a43b-0daa60786b7d",
   "metadata": {},
   "outputs": [],
   "source": [
    "simulate_steady_state("
   ]
  }
 ],
 "metadata": {
  "kernelspec": {
   "display_name": "Python [conda env:.conda-atscale] *",
   "language": "python",
   "name": "conda-env-.conda-atscale-py"
  },
  "language_info": {
   "codemirror_mode": {
    "name": "ipython",
    "version": 3
   },
   "file_extension": ".py",
   "mimetype": "text/x-python",
   "name": "python",
   "nbconvert_exporter": "python",
   "pygments_lexer": "ipython3",
   "version": "3.11.13"
  }
 },
 "nbformat": 4,
 "nbformat_minor": 5
}
