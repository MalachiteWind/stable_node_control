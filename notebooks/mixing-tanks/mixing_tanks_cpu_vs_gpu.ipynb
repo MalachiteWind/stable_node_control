{
 "cells": [
  {
   "cell_type": "code",
   "execution_count": 1,
   "id": "8b277d3c",
   "metadata": {},
   "outputs": [
    {
     "name": "stdout",
     "output_type": "stream",
     "text": [
      "[Seed] Deterministic mode enabled (may reduce speed).\n"
     ]
    }
   ],
   "source": [
    "import numpy as np\n",
    "from tqdm.auto import tqdm\n",
    "from scipy.integrate import solve_ivp\n",
    "import matplotlib.pyplot as plt\n",
    "plt.style.use('ggplot')\n",
    "plt.rcParams['font.family'] = 'serif'\n",
    "\n",
    "import torch\n",
    "import torch.nn as nn\n",
    "from stabnode.utils import set_global_seed\n",
    "from stabnode.data import TrialsDataset\n",
    "\n",
    "from data.utils import _load_wrapper\n",
    "\n",
    "device = \"cpu\"\n",
    "\n",
    "seed = 1234\n",
    "set_global_seed(seed,deterministic=True)"
   ]
  },
  {
   "cell_type": "code",
   "execution_count": 2,
   "id": "974b9c5a",
   "metadata": {},
   "outputs": [],
   "source": [
    "gamma = 50\n",
    "def sigmoid(x,gamma=gamma):\n",
    "    return 1 / (1+np.exp(-gamma*x))\n",
    "\n",
    "eps = 0.02\n",
    "q1, q2 = (0.08, 0.04)\n",
    "b1 = 1-eps\n",
    "b2 = 1-eps\n",
    "\n",
    "def c1_in(x):\n",
    "    return q1*(1-sigmoid(x-b1))\n",
    "\n",
    "def c2_in(y):\n",
    "    return q1*(1-sigmoid(y-b2))\n",
    "\n",
    "def c1_out(y):\n",
    "    return q2*(1-sigmoid(y-b2))\n",
    "\n",
    "def c2_out(y):\n",
    "    return q2\n",
    "\n",
    "def two_tank_system(t,x,u):\n",
    "    x1, x2 = x\n",
    "    p, v = u\n",
    "    x1= np.maximum(x1,0)\n",
    "    x2 = np.maximum(x2,0)\n",
    "    dx1dt = c1_in(x1)*(1-v)*p-c1_out(x2)*np.sqrt(x1)\n",
    "    dx2dt = c2_in(x2)*v*p +c1_out(x2)*np.sqrt(x1)-q2*np.sqrt(x2)\n",
    "    return np.hstack([dx1dt,dx2dt])\n"
   ]
  },
  {
   "cell_type": "code",
   "execution_count": 3,
   "id": "0ef860e9",
   "metadata": {},
   "outputs": [],
   "source": [
    "p_vals = np.linspace(0,1,101)\n",
    "v_vals = np.linspace(0,1,101)\n",
    "\n",
    "p_train = p_vals[10:-10:10]\n",
    "v_train = v_vals[10:-10:10]"
   ]
  },
  {
   "cell_type": "code",
   "execution_count": 4,
   "id": "037440a5",
   "metadata": {},
   "outputs": [
    {
     "data": {
      "application/vnd.jupyter.widget-view+json": {
       "model_id": "6c449dff86114d38886372cb278d9c4c",
       "version_major": 2,
       "version_minor": 0
      },
      "text/plain": [
       "  0%|          | 0/9 [00:00<?, ?it/s]"
      ]
     },
     "metadata": {},
     "output_type": "display_data"
    }
   ],
   "source": [
    "from scipy.integrate import solve_ivp\n",
    "num_x0s = 21\n",
    "x0s = np.linspace(0,1,num_x0s)\n",
    "\n",
    "t_max = 100\n",
    "n_colloc = 301\n",
    "\n",
    "plotting_rate = 1\n",
    "cutoff = None\n",
    "\n",
    "x_trials = [] \n",
    "t_trials = []\n",
    "u_trials = []\n",
    "for pi in tqdm(p_train[:cutoff:plotting_rate]):\n",
    "    for vi in v_train[:cutoff:plotting_rate]:\n",
    "        \n",
    "        ui_traj = []\n",
    "        for x0 in zip(x0s, x0s):\n",
    "            u = np.array([pi,vi])\n",
    "\n",
    "            sol = solve_ivp(\n",
    "                two_tank_system,\n",
    "                t_span = [0,t_max],\n",
    "                y0 = np.array(x0),\n",
    "                t_eval= np.linspace(0,t_max, n_colloc),\n",
    "                args =(u,)\n",
    "            )\n",
    "\n",
    "            x_trials.append(sol.y.T)\n",
    "            t_trials.append(sol.t.reshape(-1,1))\n",
    "            u_trials.append((pi,vi))"
   ]
  },
  {
   "cell_type": "code",
   "execution_count": 5,
   "id": "b7dbdfcf",
   "metadata": {},
   "outputs": [],
   "source": [
    "# conver to torch tensors\n",
    "batch_size = 100\n",
    "shuffle = True\n",
    "\n",
    "\n",
    "x_trials_tensor = [\n",
    "    torch.tensor(xi,dtype=torch.float32,device=device) for xi in x_trials\n",
    "]\n",
    "\n",
    "t_trials_tensor = [\n",
    "    torch.tensor(ti, dtype=torch.float32,device=device) for ti in t_trials\n",
    "]\n",
    "\n",
    "u_trials_tensor = [\n",
    "    torch.tensor(ui, dtype=torch.float32,device=device) for ui in u_trials\n",
    "]\n",
    "\n",
    "\n",
    "dataset = TrialsDataset(x_trials=x_trials_tensor, t_trials=t_trials_tensor, k_trials=u_trials_tensor)\n",
    "dataloader = torch.utils.data.DataLoader(dataset,batch_size=batch_size,shuffle=shuffle)\n"
   ]
  },
  {
   "cell_type": "code",
   "execution_count": null,
   "id": "f26df133",
   "metadata": {},
   "outputs": [],
   "source": [
    "len(dataset), len(dataloader)"
   ]
  },
  {
   "cell_type": "code",
   "execution_count": null,
   "id": "f426c825",
   "metadata": {},
   "outputs": [],
   "source": [
    "stop = 0\n",
    "\n",
    "for data in dataloader:\n",
    "    if stop > 0:\n",
    "        break\n",
    "\n",
    "    Xi, Ti, _ ,ui = data\n",
    "\n",
    "    stop+=1"
   ]
  },
  {
   "cell_type": "markdown",
   "id": "c5947093",
   "metadata": {},
   "source": [
    "## model "
   ]
  },
  {
   "cell_type": "code",
   "execution_count": 6,
   "id": "87de5902",
   "metadata": {},
   "outputs": [],
   "source": [
    "from stabnode.node import StabNODE, FeluSigmoidMLP, GeluSigmoidMLP\n",
    "from torchode import solve_ivp"
   ]
  },
  {
   "cell_type": "code",
   "execution_count": 7,
   "id": "206de69a",
   "metadata": {},
   "outputs": [],
   "source": [
    "f = FeluSigmoidMLP(dims=[2,10,10,2],lower_bound=-1, upper_bound=0)\n",
    "g = GeluSigmoidMLP(dims=[4,10,10,2],lower_bound=0, upper_bound=1)\n",
    "model = StabNODE(f,g)"
   ]
  },
  {
   "cell_type": "markdown",
   "id": "b115e509",
   "metadata": {},
   "source": [
    "## model_trainer"
   ]
  },
  {
   "cell_type": "code",
   "execution_count": 8,
   "id": "2e1318aa",
   "metadata": {},
   "outputs": [],
   "source": [
    "import time\n",
    "import pickle\n",
    "import copy\n",
    "import warnings\n",
    "\n",
    "import numpy as np\n",
    "import torch \n",
    "import torch.nn as nn\n",
    "from torch.optim import Optimizer\n",
    "from torchdiffeq import odeint\n",
    "from torchode import solve_ivp\n",
    "\n",
    "from stabnode.schedulers import ExpLossTimeDecayScheduler\n",
    "\n",
    "from pathlib import Path\n",
    "from typing import Optional, Callable, Tuple\n",
    "from stabnode.utils import _load_loop_wrapper\n",
    "from stabnode.node import _create_save_paths, _save_model_opt_cpu, _save_log_history\n",
    "\n",
    "\n",
    "def to_device(tensors, device):\n",
    "    return [t.to(device) if t.device != device else t for t in tensors]\n",
    "\n",
    "def model_trainer(\n",
    "        model: StabNODE,\n",
    "        opt: torch.optim.Optimizer,\n",
    "        loss_criteria: Callable,\n",
    "        train_loader: torch.utils.data.DataLoader,\n",
    "        n_epochs: int,\n",
    "        min_improvement:float,\n",
    "        patience: int,\n",
    "        device:str='cpu',\n",
    "        solve_method: str='tsit5', \n",
    "        save_folder: str|Path=None,\n",
    "        show_progress:bool=True,\n",
    "        scheduler: Optional[torch.optim.lr_scheduler._LRScheduler]=None,\n",
    "        print_every: int=5,\n",
    "        _precision: int = 4,\n",
    "        effective_batch_size: int = 1,\n",
    "        train_dyn = True,\n",
    "        decay_scheduler: Optional[ExpLossTimeDecayScheduler] = None,\n",
    "        decay_val:int = 0.0\n",
    ")-> Tuple[StabNODE,dict]:\n",
    "    \"\"\"\n",
    "    if decay_scheduler is given, this takes priority over decay_val.\n",
    "    \"\"\"\n",
    "    if device is None:\n",
    "        device = torch.device('cuda' if torch.cuda.is_available() else 'cpu')\n",
    "    print(f\"Training on: {device}\")\n",
    "        \n",
    "    \n",
    "    loop_wrapper = _load_loop_wrapper(show_progress)\n",
    "    model_opt_save_path, log_save_path = _create_save_paths(save_folder)\n",
    "\n",
    "    best_loss = torch.inf\n",
    "    patience_count = 0\n",
    "    best_model_epoch = -1\n",
    "    stopping_criteria = 'max-epochs'\n",
    "\n",
    "    losses = []\n",
    "    times = []\n",
    "    status = []\n",
    "    patience_hist = []\n",
    "    lr_hist = []\n",
    "    alpha_hist = []\n",
    "    model.train()\n",
    "    max_iters = len(train_loader)\n",
    "     #this is training iteration counter to keep track of effective batch size.\n",
    "    for epoch in loop_wrapper(range(n_epochs)):\n",
    "        t1 = time.time()\n",
    "        epoch_loss = 0.0\n",
    "        num_batches = 0\n",
    "        epochs_status = []\n",
    "        iter_counter = 0\n",
    "        for Xi, Ti, _, ui in train_loader:\n",
    "            # Xi = Xi.to(device) # [batch, time, dim]\n",
    "            # Ti = Ti.to(device)\n",
    "            # ui = ui.to(device)\n",
    "            Xi, Ti, ui = to_device([Xi,Ti,ui], device)\n",
    "\n",
    "            x0i = to_device([Xi[:,0,:]],device)[0]\n",
    "\n",
    "\n",
    "\n",
    "            control = lambda t: ui\n",
    "            func = lambda t, x: model(t,x,control)\n",
    "\n",
    "            opt.zero_grad()\n",
    "\n",
    "            sol = solve_ivp(\n",
    "                f=func,\n",
    "                y0=x0i,\n",
    "                t_eval=Ti.squeeze(),\n",
    "                method=solve_method\n",
    "            )\n",
    "            stat = sol.status.to('cpu')\n",
    "            stat = stat.item() if len(stat) == 1 else list(stat.numpy())\n",
    "            epochs_status.append(stat)\n",
    "\n",
    "            if decay_scheduler is not None:\n",
    "                decay_val = decay_scheduler.get_alpha() \n",
    "\n",
    "            Xi_pred = sol.ys.squeeze()\n",
    "            loss = loss_criteria(\n",
    "                Xi_pred*torch.exp(-decay_val*Ti), \n",
    "                Xi*torch.exp(-decay_val*Ti)\n",
    "            )\n",
    "\n",
    "            # Xi = Xi.unsqueeze(-1)\n",
    "            # cntrl = control(Ti)\n",
    "            # cntrl = torch.reshape(cntrl,(1,1))\n",
    "            # cntrl = cntrl.repeat(Xi.shape[0],1)\n",
    "            # g_id_loss = 100*loss_criteria(model.g(Xi,cntrl),Xi)\n",
    "\n",
    "            # if train_dyn == True:\n",
    "            #     #loss = loss +  g_id_loss\n",
    "            #     loss = loss\n",
    "            # else:\n",
    "            #     loss = g_id_loss\n",
    "\n",
    "            loss.backward()\n",
    "\n",
    "            iter_counter += 1\n",
    "            if effective_batch_size>= 1:\n",
    "                if (iter_counter+1)%effective_batch_size==0 or iter_counter>= max_iters:\n",
    "                    opt.step()\n",
    "                    opt.zero_grad()\n",
    "                    num_batches += 1\n",
    "            else:\n",
    "                opt.step()\n",
    "                opt.zero_grad()\n",
    "                num_batches += 1\n",
    "\n",
    "            epoch_loss+= loss.item()\n",
    "        epoch_loss = epoch_loss / num_batches\n",
    "\n",
    "        if decay_scheduler is not None:\n",
    "            decay_scheduler.step(epoch_loss)\n",
    "\n",
    "            if decay_scheduler.get_alpha() == 0.0 and scheduler is not None:\n",
    "                scheduler.step(epoch_loss)\n",
    "                \n",
    "        elif scheduler is not None:\n",
    "            scheduler.step(epoch_loss)\n",
    "     \n",
    "        cur_lr = opt.param_groups[0]['lr']\n",
    "        cur_alpha = decay_scheduler.get_alpha() if decay_scheduler is not None else decay_val\n",
    "\n",
    "        epoch_time = time.time() - t1\n",
    "\n",
    "        losses.append(epoch_loss)\n",
    "        times.append(epoch_time)\n",
    "        status.append(epochs_status)\n",
    "        lr_hist.append(cur_lr)\n",
    "\n",
    "        if show_progress:\n",
    "            if epoch <= 5 or epoch % print_every == 0 or epoch == n_epochs-1:\n",
    "                print(\n",
    "                    f\"Epoch {epoch}: \"\n",
    "                    f\"Loss = {epoch_loss:.{_precision}e}. \"\n",
    "                    f\"time = {epoch_time:.{_precision}e}s. \"\n",
    "                    f\"lr = {cur_lr:.{_precision}e}. \"\n",
    "                    f\"alpha = {cur_alpha:.{_precision}e}\"\n",
    "                )\n",
    "        # model checks\n",
    "        if best_loss - epoch_loss >= min_improvement:\n",
    "            best_loss = epoch_loss\n",
    "            patience_count = 0\n",
    "            best_model_epoch = epoch\n",
    "\n",
    "            if save_folder is not None:\n",
    "                _save_model_opt_cpu(\n",
    "                    model,\n",
    "                    opt,\n",
    "                    best_model_epoch,\n",
    "                    best_loss,\n",
    "                    model_opt_save_path,\n",
    "                    scheduler\n",
    "                )\n",
    "\n",
    "        else:\n",
    "            patience_count += 1\n",
    "        \n",
    "        patience_hist.append(patience_count)\n",
    "\n",
    "        if patience_count > patience:\n",
    "            stopping_criteria = 'early-stoppage'\n",
    "            if show_progress is not None:\n",
    "                print(f\"Patience exceeded: {patience}. Early stoppage executed.\")\n",
    "            break\n",
    "        \n",
    "        if save_folder is not None:\n",
    "            _ = _save_log_history(\n",
    "                losses,\n",
    "                times,\n",
    "                stopping_criteria=f\"checkpoint-{epoch}\",\n",
    "                best_model_epoch=best_model_epoch,\n",
    "                method_status=status,\n",
    "                patience_hist=patience_hist,\n",
    "                lr_hist=lr_hist,\n",
    "                save_path = log_save_path\n",
    "            )\n",
    "        \n",
    "    log_history = _save_log_history(\n",
    "        losses,\n",
    "        times,\n",
    "        stopping_criteria,\n",
    "        best_model_epoch,\n",
    "        status,\n",
    "        patience_hist,\n",
    "        lr_hist,\n",
    "        log_save_path,\n",
    "    )\n",
    "\n",
    "    return model, log_history"
   ]
  },
  {
   "cell_type": "code",
   "execution_count": 9,
   "id": "d4a27aaa",
   "metadata": {},
   "outputs": [
    {
     "name": "stdout",
     "output_type": "stream",
     "text": [
      "Training on: cpu\n"
     ]
    },
    {
     "data": {
      "application/vnd.jupyter.widget-view+json": {
       "model_id": "59aefbb0896941b2953a74a5210cf9f0",
       "version_major": 2,
       "version_minor": 0
      },
      "text/plain": [
       "  0%|          | 0/10 [00:00<?, ?it/s]"
      ]
     },
     "metadata": {},
     "output_type": "display_data"
    },
    {
     "name": "stdout",
     "output_type": "stream",
     "text": [
      "Epoch 0: Loss = 9.968e-02. time = 4.533e+00s. lr = 1.000e-02. alpha = 0.000e+00\n",
      "Epoch 1: Loss = 7.964e-02. time = 3.708e+00s. lr = 1.000e-02. alpha = 0.000e+00\n",
      "Epoch 2: Loss = 5.305e-02. time = 3.727e+00s. lr = 1.000e-02. alpha = 0.000e+00\n",
      "Epoch 3: Loss = 2.002e-02. time = 3.589e+00s. lr = 1.000e-02. alpha = 0.000e+00\n",
      "Epoch 4: Loss = 1.342e-02. time = 3.706e+00s. lr = 1.000e-02. alpha = 0.000e+00\n",
      "Epoch 5: Loss = 1.139e-02. time = 3.743e+00s. lr = 1.000e-02. alpha = 0.000e+00\n",
      "Epoch 6: Loss = 7.975e-03. time = 3.700e+00s. lr = 1.000e-02. alpha = 0.000e+00\n",
      "Epoch 7: Loss = 6.215e-03. time = 3.737e+00s. lr = 1.000e-02. alpha = 0.000e+00\n",
      "Epoch 8: Loss = 5.331e-03. time = 3.651e+00s. lr = 1.000e-02. alpha = 0.000e+00\n",
      "Epoch 9: Loss = 5.468e-03. time = 3.599e+00s. lr = 1.000e-02. alpha = 0.000e+00\n"
     ]
    }
   ],
   "source": [
    "device = 'cpu'\n",
    "n_epochs = 10\n",
    "lr = 1e-2\n",
    "loss_criteria = nn.MSELoss()\n",
    "opt = torch.optim.Adam(list(f.parameters()) + list(g.parameters()), lr=lr)\n",
    "scheduler = torch.optim.lr_scheduler.ReduceLROnPlateau(\n",
    "    opt, mode=\"min\", factor=0.1, patience=10\n",
    ")\n",
    "method=\"tsit5\"\n",
    "\n",
    "model, log = model_trainer(\n",
    "    model=model,\n",
    "    opt=opt,\n",
    "    train_loader=dataloader,\n",
    "    loss_criteria=loss_criteria,\n",
    "    device=device,\n",
    "    n_epochs=n_epochs,\n",
    "    min_improvement=1e-6,\n",
    "    patience=100,\n",
    "    solve_method=method,\n",
    "    scheduler=scheduler,\n",
    "    print_every=1,\n",
    "    _precision = 3\n",
    ")"
   ]
  },
  {
   "cell_type": "code",
   "execution_count": 10,
   "id": "bb7818a7",
   "metadata": {},
   "outputs": [
    {
     "data": {
      "image/png": "[encoded data removed]",
      "text/plain": [
       "<Figure size 640x480 with 1 Axes>"
      ]
     },
     "metadata": {},
     "output_type": "display_data"
    },
    {
     "data": {
      "image/png": "[encoded data removed]",
      "text/plain": [
       "<Figure size 640x480 with 1 Axes>"
      ]
     },
     "metadata": {},
     "output_type": "display_data"
    }
   ],
   "source": [
    "plt.figure(dpi=100)\n",
    "plt.plot(\n",
    "    np.arange(len(log['times'])), log['times'],\n",
    "    linestyle='--', c='red', lw=1,          \n",
    "    marker='+', markersize=7, markeredgewidth=2,  \n",
    "    label='cpu'\n",
    ")\n",
    "plt.title(f\"Batch size = {batch_size}\")\n",
    "plt.xlabel(\"epochs\")\n",
    "plt.ylabel(\"time (s)\")\n",
    "plt.legend()\n",
    "plt.show()\n",
    "\n",
    "plt.plot(log[\"losses\"])\n",
    "plt.show()"
   ]
  },
  {
   "cell_type": "code",
   "execution_count": 33,
   "id": "62eee6d8",
   "metadata": {},
   "outputs": [],
   "source": [
    "for epoch_stat in log['method_status']:\n",
    "    for batch_stat in epoch_stat[::1]:\n",
    "        if isinstance(batch_stat,list):\n",
    "            if any(batch_stat):\n",
    "                print(\"fail\")\n",
    "        else:\n",
    "            if batch_stat != 0:\n",
    "                print('fail')"
   ]
  },
  {
   "cell_type": "markdown",
   "id": "38e563bc",
   "metadata": {},
   "source": [
    "## GPU Training"
   ]
  },
  {
   "cell_type": "code",
   "execution_count": 34,
   "id": "134b0eee",
   "metadata": {},
   "outputs": [
    {
     "data": {
      "text/plain": [
       "'cuda'"
      ]
     },
     "execution_count": 34,
     "metadata": {},
     "output_type": "execute_result"
    }
   ],
   "source": [
    "device = 'cuda' if torch.cuda.is_available() else 'cpu'\n",
    "device"
   ]
  },
  {
   "cell_type": "code",
   "execution_count": 44,
   "id": "33e62fc7",
   "metadata": {},
   "outputs": [],
   "source": [
    "f = FeluSigmoidMLP(dims=[2,10,10,2],lower_bound=-1, upper_bound=0)\n",
    "g = GeluSigmoidMLP(dims=[4,10,10,2],lower_bound=0, upper_bound=1)\n",
    "model = StabNODE(f,g).to(device)"
   ]
  },
  {
   "cell_type": "code",
   "execution_count": 45,
   "id": "0d2713f0",
   "metadata": {},
   "outputs": [
    {
     "data": {
      "text/plain": [
       "(device(type='cuda', index=0),\n",
       " device(type='cuda', index=0),\n",
       " device(type='cuda', index=0))"
      ]
     },
     "execution_count": 45,
     "metadata": {},
     "output_type": "execute_result"
    }
   ],
   "source": [
    "next(model.parameters()).device,next(f.parameters()).device,next(g.parameters()).device"
   ]
  },
  {
   "cell_type": "code",
   "execution_count": 46,
   "id": "eeba873d",
   "metadata": {},
   "outputs": [
    {
     "name": "stdout",
     "output_type": "stream",
     "text": [
      "Training on: cuda\n"
     ]
    },
    {
     "data": {
      "application/vnd.jupyter.widget-view+json": {
       "model_id": "030e91fde29c44abbd694cf61b5f3c2d",
       "version_major": 2,
       "version_minor": 0
      },
      "text/plain": [
       "  0%|          | 0/10 [00:00<?, ?it/s]"
      ]
     },
     "metadata": {},
     "output_type": "display_data"
    },
    {
     "name": "stderr",
     "output_type": "stream",
     "text": [
      "/home/grisal/github/stable_node_control/.venv/lib/python3.12/site-packages/torch/functional.py:402: UserWarning: Deterministic behavior was enabled with either `torch.use_deterministic_algorithms(True)` or `at::Context::setDeterministicAlgorithms(true)`, but this operation is not deterministic because it uses CuBLAS and you have CUDA >= 10.2. To enable deterministic behavior in this case, you must set an environment variable before running your PyTorch application: CUBLAS_WORKSPACE_CONFIG=:4096:8 or CUBLAS_WORKSPACE_CONFIG=:16:8. For more information, go to https://docs.nvidia.com/cuda/cublas/index.html#results-reproducibility (Triggered internally at ../aten/src/ATen/Context.cpp:208.)\n",
      "  return _VF.einsum(equation, operands)  # type: ignore[attr-defined]\n",
      "/home/grisal/github/stable_node_control/.venv/lib/python3.12/site-packages/torch/autograd/graph.py:825: UserWarning: Deterministic behavior was enabled with either `torch.use_deterministic_algorithms(True)` or `at::Context::setDeterministicAlgorithms(true)`, but this operation is not deterministic because it uses CuBLAS and you have CUDA >= 10.2. To enable deterministic behavior in this case, you must set an environment variable before running your PyTorch application: CUBLAS_WORKSPACE_CONFIG=:4096:8 or CUBLAS_WORKSPACE_CONFIG=:16:8. For more information, go to https://docs.nvidia.com/cuda/cublas/index.html#results-reproducibility (Triggered internally at ../aten/src/ATen/Context.cpp:208.)\n",
      "  return Variable._execution_engine.run_backward(  # Calls into the C++ engine to run the backward pass\n"
     ]
    },
    {
     "name": "stdout",
     "output_type": "stream",
     "text": [
      "Epoch 0: Loss = 1.263e-01. time = 8.452e+00s. lr = 1.000e-02. alpha = 0.000e+00\n",
      "Epoch 1: Loss = 9.835e-02. time = 7.493e+00s. lr = 1.000e-02. alpha = 0.000e+00\n",
      "Epoch 2: Loss = 7.852e-02. time = 5.739e+00s. lr = 1.000e-02. alpha = 0.000e+00\n",
      "Epoch 3: Loss = 5.768e-02. time = 5.955e+00s. lr = 1.000e-02. alpha = 0.000e+00\n",
      "Epoch 4: Loss = 3.201e-02. time = 6.035e+00s. lr = 1.000e-02. alpha = 0.000e+00\n",
      "Epoch 5: Loss = 1.800e-02. time = 6.109e+00s. lr = 1.000e-02. alpha = 0.000e+00\n",
      "Epoch 6: Loss = 1.292e-02. time = 5.995e+00s. lr = 1.000e-02. alpha = 0.000e+00\n",
      "Epoch 7: Loss = 1.018e-02. time = 5.975e+00s. lr = 1.000e-02. alpha = 0.000e+00\n",
      "Epoch 8: Loss = 1.084e-02. time = 5.988e+00s. lr = 1.000e-02. alpha = 0.000e+00\n",
      "Epoch 9: Loss = 7.779e-03. time = 5.830e+00s. lr = 1.000e-02. alpha = 0.000e+00\n"
     ]
    }
   ],
   "source": [
    "n_epochs = 10\n",
    "lr = 1e-2\n",
    "loss_criteria = nn.MSELoss()\n",
    "opt = torch.optim.Adam(list(f.parameters()) + list(g.parameters()), lr=lr)\n",
    "scheduler = torch.optim.lr_scheduler.ReduceLROnPlateau(\n",
    "    opt, mode=\"min\", factor=0.1, patience=10\n",
    ")\n",
    "method=\"tsit5\"\n",
    "\n",
    "model, cuda_log = model_trainer(\n",
    "    model=model,\n",
    "    opt=opt,\n",
    "    train_loader=dataloader,\n",
    "    loss_criteria=loss_criteria,\n",
    "    device=device,\n",
    "    n_epochs=n_epochs,\n",
    "    min_improvement=1e-6,\n",
    "    patience=100,\n",
    "    solve_method=method,\n",
    "    scheduler=scheduler,\n",
    "    print_every=1,\n",
    "    _precision = 3\n",
    ")"
   ]
  },
  {
   "cell_type": "code",
   "execution_count": 47,
   "id": "600f534a",
   "metadata": {},
   "outputs": [
    {
     "data": {
      "image/png": "[encoded data removed]",
      "text/plain": [
       "<Figure size 640x480 with 1 Axes>"
      ]
     },
     "metadata": {},
     "output_type": "display_data"
    }
   ],
   "source": [
    "plt.figure(dpi=100)\n",
    "plt.plot(\n",
    "    np.arange(len(cuda_log['times'])), cuda_log['times'],\n",
    "    linestyle='--', c='black', lw=1,          \n",
    "    marker='+', markersize=7, markeredgewidth=2,  \n",
    "    label='cuda'\n",
    ")\n",
    "plt.plot(\n",
    "    np.arange(len(log['times'])), log['times'],\n",
    "    linestyle='--', c='red', lw=1,          \n",
    "    marker='+', markersize=7, markeredgewidth=2,  \n",
    "    label='cpu'\n",
    ")\n",
    "plt.title(f\"Batch size = {batch_size}\")\n",
    "plt.xlabel(\"epochs\")\n",
    "plt.ylabel(\"time (s)\")\n",
    "plt.legend()\n",
    "plt.show()"
   ]
  },
  {
   "cell_type": "code",
   "execution_count": null,
   "id": "e574a4c0",
   "metadata": {},
   "outputs": [],
   "source": []
  }
 ],
 "metadata": {
  "kernelspec": {
   "display_name": ".venv",
   "language": "python",
   "name": "python3"
  },
  "language_info": {
   "codemirror_mode": {
    "name": "ipython",
    "version": 3
   },
   "file_extension": ".py",
   "mimetype": "text/x-python",
   "name": "python",
   "nbconvert_exporter": "python",
   "pygments_lexer": "ipython3",
   "version": "3.12.3"
  }
 },
 "nbformat": 4,
 "nbformat_minor": 5
}
