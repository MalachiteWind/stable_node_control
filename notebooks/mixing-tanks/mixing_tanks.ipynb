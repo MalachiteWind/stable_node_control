{
 "cells": [
  {
   "cell_type": "code",
   "execution_count": 1,
   "id": "75bc4cfc",
   "metadata": {},
   "outputs": [
    {
     "name": "stderr",
     "output_type": "stream",
     "text": [
      "/Users/Malachite/Documents/github/stable_node_control/.venv311/lib/python3.11/site-packages/mlflow/utils/requirements_utils.py:12: UserWarning: pkg_resources is deprecated as an API. See https://setuptools.pypa.io/en/latest/pkg_resources.html. The pkg_resources package is slated for removal as early as 2025-11-30. Refrain from using this package or pin to Setuptools<81.\n",
      "  import pkg_resources\n"
     ]
    }
   ],
   "source": [
    "import neuromancer.psl as psl\n",
    "from neuromancer.dynamics import ode\n",
    "import numpy as np\n",
    "import matplotlib.pyplot as plt\n",
    "import torch\n",
    "import torch.nn as nn\n",
    "from scipy.integrate import solve_ivp\n",
    "\n",
    "from tqdm.auto import tqdm\n",
    "plt.style.use('ggplot')\n",
    "plt.rcParams['font.family'] = 'serif'"
   ]
  },
  {
   "cell_type": "markdown",
   "id": "9895979b",
   "metadata": {},
   "source": [
    "**System model**:  \n",
    "The system dynamics is defined by following nonlinear ordinary differential equations (ODEs):\n",
    "$$\n",
    " \\frac{dx_1}{dt} = c_1 (1.0 - v)  p - c_2  \\sqrt{x_1}  \\\\  \n",
    " \\frac{dx_2}{dt}  = c_1 v p + c_2  \\sqrt{x_1} - c_2 \\sqrt{x_2}\n",
    "$$  \n",
    "With system states $x_1$, and $x_2$ representing liquid levels in tank 1 and 2, respectively. Control actions are pump modulation $p$, and valve opening $v$. The ODE system is parametrized by inlet and outlet valve coefficients $c_1$ and $c_2$, respectively.\n",
    "\n",
    "**Rewritten Formulation**:\n",
    "\n",
    "$$\n",
    "\\dot x_1 = f_1(x_1, x_2) (x_1 - g_1(x_1,x_2))\\\\\n",
    "\\dot x_2 = f_2(x_1,x_2) (x_2 - g_2(x_1,x_2))\n",
    "$$\n",
    "\n",
    "where\n",
    "$$\n",
    "f_1(x_1,x_2) \\triangleq - \\frac{c_2}{\\sqrt{x_1}} \\quad \\text{and} \\quad g_1(x_1, x_2) \\triangleq (1-v)p\\frac{c_1}{c_2}\\sqrt{x_1},\n",
    "$$\n",
    "$$\n",
    "f_2(x_1, x_2) \\triangleq - \\frac{c_2}{\\sqrt{x_1}+\\sqrt{x_2}} \\quad \\text{and} \\quad g_2(x_1, x_2) \\triangleq vp \\frac{c_1}{c_2}(\\sqrt{x_1}+\\sqrt{x_2})\n",
    "$$\n",
    "\n",
    "<!-- $$\n",
    "\\dot x_1 = - \\frac{c_2}{\\sqrt{x_1}} \\left(x - \\frac{c_1}{c_2}(1-v)p \\sqrt{x_1}\\right)\\\\\n",
    "\\dot x_2 = - \\frac{c_2}{\\sqrt{x_1} + \\sqrt{x_2}}\\left[x_2 - \\left(x_1 + vp \\frac{c_1}{c_2}(\\sqrt{x_1}+\\sqrt{x_2})\\right)\\right]\n",
    "$$ -->"
   ]
  },
  {
   "cell_type": "markdown",
   "id": "225cf3e5",
   "metadata": {},
   "source": [
    "### Neuromancer Function"
   ]
  },
  {
   "cell_type": "code",
   "execution_count": 7,
   "id": "d8c0b6f7",
   "metadata": {},
   "outputs": [],
   "source": [
    "gt_model = psl.nonautonomous.TwoTank()"
   ]
  },
  {
   "cell_type": "code",
   "execution_count": 8,
   "id": "fd9fae24",
   "metadata": {},
   "outputs": [],
   "source": [
    "variables, constants, parameters, _ = gt_model.params"
   ]
  },
  {
   "cell_type": "code",
   "execution_count": 9,
   "id": "1c311e63",
   "metadata": {},
   "outputs": [],
   "source": [
    "x0 = variables['x0']\n",
    "ts = constants['ts']\n",
    "c1,c2 = parameters[\"c1\"], parameters[\"c2\"]"
   ]
  },
  {
   "cell_type": "code",
   "execution_count": 5,
   "id": "8497d9c3",
   "metadata": {},
   "outputs": [],
   "source": [
    "two_tank_ode_nm = ode.TwoTankParam()\n",
    "two_tank_ode_nm.c1 = nn.Parameter(torch.tensor(gt_model.c1), requires_grad=False)\n",
    "two_tank_ode_nm.c2 = nn.Parameter(torch.tensor(gt_model.c2), requires_grad=False)\n",
    "\n",
    "\n",
    "\n",
    "# No internal constraints?\n",
    "def two_tank_ode(t,x,u):\n",
    "    with torch.no_grad():\n",
    "        dh =  two_tank_ode_nm.ode_equations(\n",
    "            torch.tensor([x]),\n",
    "            torch.tensor([u])\n",
    "        )\n",
    "        return dh.squeeze().numpy()"
   ]
  },
  {
   "cell_type": "code",
   "execution_count": 6,
   "id": "f4b66213",
   "metadata": {},
   "outputs": [
    {
     "data": {
      "text/plain": [
       "array([0.03571573, 0.016     ], dtype=float32)"
      ]
     },
     "execution_count": 6,
     "metadata": {},
     "output_type": "execute_result"
    }
   ],
   "source": [
    "x0 = [0.5,0.5]\n",
    "u=[1,0.2]\n",
    "two_tank_ode(0,x0,u)"
   ]
  },
  {
   "cell_type": "code",
   "execution_count": 7,
   "id": "c65a1f5b",
   "metadata": {},
   "outputs": [
    {
     "name": "stderr",
     "output_type": "stream",
     "text": [
      "/var/folders/9x/8bf0hckd1b122g3zlj_z9c1w0000gp/T/ipykernel_82457/1026455973.py:11: UserWarning: Creating a tensor from a list of numpy.ndarrays is extremely slow. Please consider converting the list to a single numpy.ndarray with numpy.array() before converting to a tensor. (Triggered internally at /Users/runner/work/pytorch/pytorch/pytorch/torch/csrc/utils/tensor_new.cpp:278.)\n",
      "  torch.tensor([x]),\n"
     ]
    }
   ],
   "source": [
    "t_max= 300\n",
    "\n",
    "sol = solve_ivp(\n",
    "    two_tank_ode,\n",
    "    t_span=[0,t_max],\n",
    "    y0 = x0,\n",
    "    t_eval=np.linspace(0,t_max,501),\n",
    "    args=(u,)\n",
    ")"
   ]
  },
  {
   "cell_type": "code",
   "execution_count": 8,
   "id": "efc2f86a",
   "metadata": {},
   "outputs": [
    {
     "data": {
      "text/plain": [
       "(0.0, 8.14935837412893)"
      ]
     },
     "execution_count": 8,
     "metadata": {},
     "output_type": "execute_result"
    },
    {
     "data": {
      "image/png": "[encoded data removed]",
      "text/plain": [
       "<Figure size 640x480 with 1 Axes>"
      ]
     },
     "metadata": {},
     "output_type": "display_data"
    }
   ],
   "source": [
    "plt.plot(sol.t,sol.y[0,:])\n",
    "plt.plot(sol.t,sol.y[1,:])\n",
    "plt.ylim(0,)"
   ]
  },
  {
   "cell_type": "markdown",
   "id": "65dd550f",
   "metadata": {},
   "source": [
    "### Rewritten Two-Tank with constraints to inside $[0,1]$.\n",
    "\n",
    "Numerical drift does cause solution to fall outside of range\n"
   ]
  },
  {
   "cell_type": "code",
   "execution_count": 3,
   "id": "b52a5a2d",
   "metadata": {},
   "outputs": [],
   "source": [
    "from scipy.integrate import solve_ivp"
   ]
  },
  {
   "cell_type": "code",
   "execution_count": 4,
   "id": "134668e4",
   "metadata": {},
   "outputs": [],
   "source": [
    "def two_tank_ode(t, x, u, c, eps=0.):\n",
    "    x1, x2 = x\n",
    "    p, v = u\n",
    "    c1, c2 = c\n",
    "\n",
    "    pump = np.clip(p, 0.0, 1.0)\n",
    "    valve = np.clip(v, 0.0, 1.0)\n",
    "\n",
    "    dhdt1 = c1*(1.0 - valve)*pump - c2*np.sqrt(max(x1, 0.0))\n",
    "    dhdt2 = c1*valve*pump + c2*np.sqrt(max(x1, 0.0)) - c2*np.sqrt(max(x2, 0.0))\n",
    "\n",
    "    if x1 <= 0.0+eps and dhdt1 < 0.0:\n",
    "        dhdt1 = 0.0\n",
    "    if x1 >= 1.0-eps and dhdt1 > 0.0:\n",
    "        dhdt1 = 0.0\n",
    "\n",
    "    if x2 <= 0.0+eps and dhdt2 < 0.0:\n",
    "        dhdt2 = 0.0\n",
    "    if x2 >= 1.0-eps and dhdt2 > 0.0:\n",
    "        dhdt2 = 0.0\n",
    "\n",
    "    return np.array([dhdt1, dhdt2])\n"
   ]
  },
  {
   "cell_type": "code",
   "execution_count": 10,
   "id": "462a11cf",
   "metadata": {},
   "outputs": [],
   "source": [
    "x0 = [0.5,0.5]\n",
    "u = [1,0.2]\n",
    "c = [c1,c2]\n",
    "eps = 2e-2"
   ]
  },
  {
   "cell_type": "code",
   "execution_count": 11,
   "id": "bc6d1d74",
   "metadata": {},
   "outputs": [],
   "source": [
    "t_max = 100\n",
    "sol = solve_ivp(\n",
    "    two_tank_ode,\n",
    "    t_span = [0,t_max],\n",
    "    y0 = np.array(x0),\n",
    "    t_eval= np.linspace(0,t_max, 501),\n",
    "    args =(u,c,)\n",
    ")\n",
    "\n",
    "# soft_two_tank = lambda t,x,u,c: two_tank_ode(t,x,u,c,eps=1e-2)\n",
    "\n",
    "sol2 = solve_ivp(\n",
    "    two_tank_ode,\n",
    "    t_span = [0,t_max],\n",
    "    y0 = np.array(x0),\n",
    "    t_eval= np.linspace(0,t_max, 501),\n",
    "    args =(u,c,eps)\n",
    ")\n"
   ]
  },
  {
   "cell_type": "code",
   "execution_count": 12,
   "id": "a45141ae",
   "metadata": {},
   "outputs": [],
   "source": [
    "t = sol.t\n",
    "X = sol.y\n",
    "\n",
    "t2 = sol2.t\n",
    "X2 = sol2.y"
   ]
  },
  {
   "cell_type": "code",
   "execution_count": 13,
   "id": "26afba92",
   "metadata": {},
   "outputs": [
    {
     "data": {
      "text/plain": [
       "(1.0239694644875816, 0.5, 0.5, 1.0070201312215667)"
      ]
     },
     "execution_count": 13,
     "metadata": {},
     "output_type": "execute_result"
    }
   ],
   "source": [
    "X.max(), X.min(), X2.min(), X2.max()"
   ]
  },
  {
   "cell_type": "code",
   "execution_count": 14,
   "id": "eed72c98",
   "metadata": {},
   "outputs": [
    {
     "data": {
      "image/png": "[encoded data removed]",
      "text/plain": [
       "<Figure size 1800x750 with 2 Axes>"
      ]
     },
     "metadata": {},
     "output_type": "display_data"
    }
   ],
   "source": [
    "fig, (ax1,ax2) = plt.subplots(1,2, figsize=(12,5),dpi=150)\n",
    "\n",
    "ax1.set_title(\"Tank 1\")\n",
    "ax1.plot(t, X[0,:],label=fr\"$\\epsilon$=0\")\n",
    "ax1.plot(t2,X2[0,:],label=fr\"$\\epsilon$={eps:.1e}\")\n",
    "ax1.set_ylim(0.5,)\n",
    "ax1.legend(prop={'family':'serif'})\n",
    "\n",
    "ax2.set_title(\"Tank 2\")\n",
    "ax2.plot(t,X[1,:])\n",
    "ax2.plot(t2,X2[1,:])\n",
    "ax2.set_ylim(0.5,)\n",
    "plt.show()"
   ]
  },
  {
   "cell_type": "code",
   "execution_count": 36,
   "id": "ca4b3f33",
   "metadata": {},
   "outputs": [
    {
     "data": {
      "application/vnd.jupyter.widget-view+json": {
       "model_id": "9cd762144fef4e6882ab2aa6447b6bf6",
       "version_major": 2,
       "version_minor": 0
      },
      "text/plain": [
       "  0%|          | 0/101 [00:00<?, ?it/s]"
      ]
     },
     "metadata": {},
     "output_type": "display_data"
    },
    {
     "data": {
      "application/vnd.jupyter.widget-view+json": {
       "model_id": "9a5a9d399dc04109b9d78caf2c577a86",
       "version_major": 2,
       "version_minor": 0
      },
      "text/plain": [
       "  0%|          | 0/101 [00:00<?, ?it/s]"
      ]
     },
     "metadata": {},
     "output_type": "display_data"
    },
    {
     "data": {
      "application/vnd.jupyter.widget-view+json": {
       "model_id": "486241da0a97437aaab639e771a13280",
       "version_major": 2,
       "version_minor": 0
      },
      "text/plain": [
       "  0%|          | 0/101 [00:00<?, ?it/s]"
      ]
     },
     "metadata": {},
     "output_type": "display_data"
    },
    {
     "data": {
      "application/vnd.jupyter.widget-view+json": {
       "model_id": "561f24eb01894429a5ab505f7a81599a",
       "version_major": 2,
       "version_minor": 0
      },
      "text/plain": [
       "  0%|          | 0/101 [00:00<?, ?it/s]"
      ]
     },
     "metadata": {},
     "output_type": "display_data"
    },
    {
     "data": {
      "application/vnd.jupyter.widget-view+json": {
       "model_id": "3a88553d88854cea9a3ef50a157b1879",
       "version_major": 2,
       "version_minor": 0
      },
      "text/plain": [
       "  0%|          | 0/101 [00:00<?, ?it/s]"
      ]
     },
     "metadata": {},
     "output_type": "display_data"
    },
    {
     "data": {
      "application/vnd.jupyter.widget-view+json": {
       "model_id": "e3572b1d4af149f6bc617ca937ddc47d",
       "version_major": 2,
       "version_minor": 0
      },
      "text/plain": [
       "  0%|          | 0/101 [00:00<?, ?it/s]"
      ]
     },
     "metadata": {},
     "output_type": "display_data"
    },
    {
     "data": {
      "application/vnd.jupyter.widget-view+json": {
       "model_id": "37dea070ef2f435bb813dca185c08651",
       "version_major": 2,
       "version_minor": 0
      },
      "text/plain": [
       "  0%|          | 0/101 [00:00<?, ?it/s]"
      ]
     },
     "metadata": {},
     "output_type": "display_data"
    },
    {
     "data": {
      "application/vnd.jupyter.widget-view+json": {
       "model_id": "930bbc3c5ee44545890c9c8c1676d83a",
       "version_major": 2,
       "version_minor": 0
      },
      "text/plain": [
       "  0%|          | 0/101 [00:00<?, ?it/s]"
      ]
     },
     "metadata": {},
     "output_type": "display_data"
    },
    {
     "data": {
      "application/vnd.jupyter.widget-view+json": {
       "model_id": "68d29a69fabc43d78d3b814b29ef29e8",
       "version_major": 2,
       "version_minor": 0
      },
      "text/plain": [
       "  0%|          | 0/101 [00:00<?, ?it/s]"
      ]
     },
     "metadata": {},
     "output_type": "display_data"
    },
    {
     "data": {
      "application/vnd.jupyter.widget-view+json": {
       "model_id": "999f660dbd2b483b947140544f246859",
       "version_major": 2,
       "version_minor": 0
      },
      "text/plain": [
       "  0%|          | 0/101 [00:00<?, ?it/s]"
      ]
     },
     "metadata": {},
     "output_type": "display_data"
    },
    {
     "data": {
      "application/vnd.jupyter.widget-view+json": {
       "model_id": "bf26633e23224ec9a17738687991eb63",
       "version_major": 2,
       "version_minor": 0
      },
      "text/plain": [
       "  0%|          | 0/101 [00:00<?, ?it/s]"
      ]
     },
     "metadata": {},
     "output_type": "display_data"
    },
    {
     "data": {
      "application/vnd.jupyter.widget-view+json": {
       "model_id": "08c2703f7004447dbdb0dab9fb0fc16d",
       "version_major": 2,
       "version_minor": 0
      },
      "text/plain": [
       "  0%|          | 0/101 [00:00<?, ?it/s]"
      ]
     },
     "metadata": {},
     "output_type": "display_data"
    },
    {
     "data": {
      "application/vnd.jupyter.widget-view+json": {
       "model_id": "40bd915e8e274a118b00fcec08160111",
       "version_major": 2,
       "version_minor": 0
      },
      "text/plain": [
       "  0%|          | 0/101 [00:00<?, ?it/s]"
      ]
     },
     "metadata": {},
     "output_type": "display_data"
    },
    {
     "data": {
      "application/vnd.jupyter.widget-view+json": {
       "model_id": "b96cb580b0834ef1883f6b99afbc11b4",
       "version_major": 2,
       "version_minor": 0
      },
      "text/plain": [
       "  0%|          | 0/101 [00:00<?, ?it/s]"
      ]
     },
     "metadata": {},
     "output_type": "display_data"
    },
    {
     "data": {
      "application/vnd.jupyter.widget-view+json": {
       "model_id": "11fd8a00b82449d6abb83d1aaaa96019",
       "version_major": 2,
       "version_minor": 0
      },
      "text/plain": [
       "  0%|          | 0/101 [00:00<?, ?it/s]"
      ]
     },
     "metadata": {},
     "output_type": "display_data"
    },
    {
     "data": {
      "application/vnd.jupyter.widget-view+json": {
       "model_id": "5ed1a00b29464428a83f361a72de3b01",
       "version_major": 2,
       "version_minor": 0
      },
      "text/plain": [
       "  0%|          | 0/101 [00:00<?, ?it/s]"
      ]
     },
     "metadata": {},
     "output_type": "display_data"
    },
    {
     "data": {
      "application/vnd.jupyter.widget-view+json": {
       "model_id": "63327f8cf9eb4dc68bdaf1355ccc4670",
       "version_major": 2,
       "version_minor": 0
      },
      "text/plain": [
       "  0%|          | 0/101 [00:00<?, ?it/s]"
      ]
     },
     "metadata": {},
     "output_type": "display_data"
    },
    {
     "data": {
      "application/vnd.jupyter.widget-view+json": {
       "model_id": "ae63d5940d274c3aa2bc6a88ffbbb0b3",
       "version_major": 2,
       "version_minor": 0
      },
      "text/plain": [
       "  0%|          | 0/101 [00:00<?, ?it/s]"
      ]
     },
     "metadata": {},
     "output_type": "display_data"
    },
    {
     "data": {
      "application/vnd.jupyter.widget-view+json": {
       "model_id": "4d227e36e02048ae8091a64f7eda599e",
       "version_major": 2,
       "version_minor": 0
      },
      "text/plain": [
       "  0%|          | 0/101 [00:00<?, ?it/s]"
      ]
     },
     "metadata": {},
     "output_type": "display_data"
    },
    {
     "data": {
      "application/vnd.jupyter.widget-view+json": {
       "model_id": "b467cd7332614259a0788dac1810d2f3",
       "version_major": 2,
       "version_minor": 0
      },
      "text/plain": [
       "  0%|          | 0/101 [00:00<?, ?it/s]"
      ]
     },
     "metadata": {},
     "output_type": "display_data"
    },
    {
     "data": {
      "application/vnd.jupyter.widget-view+json": {
       "model_id": "67327671110f41669411307fbc5ba698",
       "version_major": 2,
       "version_minor": 0
      },
      "text/plain": [
       "  0%|          | 0/101 [00:00<?, ?it/s]"
      ]
     },
     "metadata": {},
     "output_type": "display_data"
    },
    {
     "data": {
      "application/vnd.jupyter.widget-view+json": {
       "model_id": "672208b82f0543d49db01a6f08780dcc",
       "version_major": 2,
       "version_minor": 0
      },
      "text/plain": [
       "  0%|          | 0/101 [00:00<?, ?it/s]"
      ]
     },
     "metadata": {},
     "output_type": "display_data"
    },
    {
     "data": {
      "application/vnd.jupyter.widget-view+json": {
       "model_id": "8cc3a85c30974026a610de99160e8fc9",
       "version_major": 2,
       "version_minor": 0
      },
      "text/plain": [
       "  0%|          | 0/101 [00:00<?, ?it/s]"
      ]
     },
     "metadata": {},
     "output_type": "display_data"
    },
    {
     "data": {
      "application/vnd.jupyter.widget-view+json": {
       "model_id": "346fa6446cc042b4b7749ad5c747a252",
       "version_major": 2,
       "version_minor": 0
      },
      "text/plain": [
       "  0%|          | 0/101 [00:00<?, ?it/s]"
      ]
     },
     "metadata": {},
     "output_type": "display_data"
    },
    {
     "data": {
      "application/vnd.jupyter.widget-view+json": {
       "model_id": "e7e52c9285df48f2aaa9b0cf40417b78",
       "version_major": 2,
       "version_minor": 0
      },
      "text/plain": [
       "  0%|          | 0/101 [00:00<?, ?it/s]"
      ]
     },
     "metadata": {},
     "output_type": "display_data"
    },
    {
     "data": {
      "application/vnd.jupyter.widget-view+json": {
       "model_id": "6d6616fe863f42308e1916fd495db495",
       "version_major": 2,
       "version_minor": 0
      },
      "text/plain": [
       "  0%|          | 0/101 [00:00<?, ?it/s]"
      ]
     },
     "metadata": {},
     "output_type": "display_data"
    },
    {
     "data": {
      "application/vnd.jupyter.widget-view+json": {
       "model_id": "b5d5a61ae4754036bab494a0caa336a9",
       "version_major": 2,
       "version_minor": 0
      },
      "text/plain": [
       "  0%|          | 0/101 [00:00<?, ?it/s]"
      ]
     },
     "metadata": {},
     "output_type": "display_data"
    },
    {
     "data": {
      "application/vnd.jupyter.widget-view+json": {
       "model_id": "82fb10a88e9145f785dec3777521f3db",
       "version_major": 2,
       "version_minor": 0
      },
      "text/plain": [
       "  0%|          | 0/101 [00:00<?, ?it/s]"
      ]
     },
     "metadata": {},
     "output_type": "display_data"
    },
    {
     "data": {
      "application/vnd.jupyter.widget-view+json": {
       "model_id": "0cc917c2f6294a03a4b5acefbd5fb988",
       "version_major": 2,
       "version_minor": 0
      },
      "text/plain": [
       "  0%|          | 0/101 [00:00<?, ?it/s]"
      ]
     },
     "metadata": {},
     "output_type": "display_data"
    },
    {
     "data": {
      "application/vnd.jupyter.widget-view+json": {
       "model_id": "2903cf4ff4994e7d98765453c077fee2",
       "version_major": 2,
       "version_minor": 0
      },
      "text/plain": [
       "  0%|          | 0/101 [00:00<?, ?it/s]"
      ]
     },
     "metadata": {},
     "output_type": "display_data"
    },
    {
     "data": {
      "application/vnd.jupyter.widget-view+json": {
       "model_id": "b6e5b16ae9df43d498e2736ed923d8b2",
       "version_major": 2,
       "version_minor": 0
      },
      "text/plain": [
       "  0%|          | 0/101 [00:00<?, ?it/s]"
      ]
     },
     "metadata": {},
     "output_type": "display_data"
    },
    {
     "data": {
      "application/vnd.jupyter.widget-view+json": {
       "model_id": "b7fc2b64936f4ab89c62051c8eed86ec",
       "version_major": 2,
       "version_minor": 0
      },
      "text/plain": [
       "  0%|          | 0/101 [00:00<?, ?it/s]"
      ]
     },
     "metadata": {},
     "output_type": "display_data"
    },
    {
     "data": {
      "application/vnd.jupyter.widget-view+json": {
       "model_id": "cb749e9429f14708b176ac86bfff1b50",
       "version_major": 2,
       "version_minor": 0
      },
      "text/plain": [
       "  0%|          | 0/101 [00:00<?, ?it/s]"
      ]
     },
     "metadata": {},
     "output_type": "display_data"
    },
    {
     "data": {
      "application/vnd.jupyter.widget-view+json": {
       "model_id": "268f8f0e8bcd4a0982648f386d341058",
       "version_major": 2,
       "version_minor": 0
      },
      "text/plain": [
       "  0%|          | 0/101 [00:00<?, ?it/s]"
      ]
     },
     "metadata": {},
     "output_type": "display_data"
    },
    {
     "data": {
      "application/vnd.jupyter.widget-view+json": {
       "model_id": "d3e35b1f8f1b45c486527aa72b191325",
       "version_major": 2,
       "version_minor": 0
      },
      "text/plain": [
       "  0%|          | 0/101 [00:00<?, ?it/s]"
      ]
     },
     "metadata": {},
     "output_type": "display_data"
    },
    {
     "data": {
      "application/vnd.jupyter.widget-view+json": {
       "model_id": "270b6aad16084c9194260a436ed26824",
       "version_major": 2,
       "version_minor": 0
      },
      "text/plain": [
       "  0%|          | 0/101 [00:00<?, ?it/s]"
      ]
     },
     "metadata": {},
     "output_type": "display_data"
    },
    {
     "data": {
      "application/vnd.jupyter.widget-view+json": {
       "model_id": "3d8307b22ac345b2a60cbd2b9e52007a",
       "version_major": 2,
       "version_minor": 0
      },
      "text/plain": [
       "  0%|          | 0/101 [00:00<?, ?it/s]"
      ]
     },
     "metadata": {},
     "output_type": "display_data"
    },
    {
     "data": {
      "application/vnd.jupyter.widget-view+json": {
       "model_id": "0d7ee59a00f64be2acb4f193c91a28d8",
       "version_major": 2,
       "version_minor": 0
      },
      "text/plain": [
       "  0%|          | 0/101 [00:00<?, ?it/s]"
      ]
     },
     "metadata": {},
     "output_type": "display_data"
    },
    {
     "data": {
      "application/vnd.jupyter.widget-view+json": {
       "model_id": "9ecdd5e88d4f4fd2aef1ff455662b99e",
       "version_major": 2,
       "version_minor": 0
      },
      "text/plain": [
       "  0%|          | 0/101 [00:00<?, ?it/s]"
      ]
     },
     "metadata": {},
     "output_type": "display_data"
    },
    {
     "data": {
      "application/vnd.jupyter.widget-view+json": {
       "model_id": "7f4abc82fe39455f83b4338419be6d12",
       "version_major": 2,
       "version_minor": 0
      },
      "text/plain": [
       "  0%|          | 0/101 [00:00<?, ?it/s]"
      ]
     },
     "metadata": {},
     "output_type": "display_data"
    },
    {
     "data": {
      "application/vnd.jupyter.widget-view+json": {
       "model_id": "95e74eddb1794864a25ade8b74c4321d",
       "version_major": 2,
       "version_minor": 0
      },
      "text/plain": [
       "  0%|          | 0/101 [00:00<?, ?it/s]"
      ]
     },
     "metadata": {},
     "output_type": "display_data"
    },
    {
     "data": {
      "application/vnd.jupyter.widget-view+json": {
       "model_id": "a6a3c68fa7d8499f90881257157613dd",
       "version_major": 2,
       "version_minor": 0
      },
      "text/plain": [
       "  0%|          | 0/101 [00:00<?, ?it/s]"
      ]
     },
     "metadata": {},
     "output_type": "display_data"
    },
    {
     "data": {
      "application/vnd.jupyter.widget-view+json": {
       "model_id": "018e6f41a92647e0898d5eee9d08eba2",
       "version_major": 2,
       "version_minor": 0
      },
      "text/plain": [
       "  0%|          | 0/101 [00:00<?, ?it/s]"
      ]
     },
     "metadata": {},
     "output_type": "display_data"
    },
    {
     "data": {
      "application/vnd.jupyter.widget-view+json": {
       "model_id": "4a766ec00ac540b2aaa1acdf74ee7c10",
       "version_major": 2,
       "version_minor": 0
      },
      "text/plain": [
       "  0%|          | 0/101 [00:00<?, ?it/s]"
      ]
     },
     "metadata": {},
     "output_type": "display_data"
    },
    {
     "data": {
      "application/vnd.jupyter.widget-view+json": {
       "model_id": "747bac7d98e44c4c8d01efb44fb4eca5",
       "version_major": 2,
       "version_minor": 0
      },
      "text/plain": [
       "  0%|          | 0/101 [00:00<?, ?it/s]"
      ]
     },
     "metadata": {},
     "output_type": "display_data"
    },
    {
     "data": {
      "application/vnd.jupyter.widget-view+json": {
       "model_id": "6fa28f3d196d434b9396ffe4f7a7963b",
       "version_major": 2,
       "version_minor": 0
      },
      "text/plain": [
       "  0%|          | 0/101 [00:00<?, ?it/s]"
      ]
     },
     "metadata": {},
     "output_type": "display_data"
    },
    {
     "data": {
      "application/vnd.jupyter.widget-view+json": {
       "model_id": "6065e41b8c41409cafe41ab308fea0dc",
       "version_major": 2,
       "version_minor": 0
      },
      "text/plain": [
       "  0%|          | 0/101 [00:00<?, ?it/s]"
      ]
     },
     "metadata": {},
     "output_type": "display_data"
    },
    {
     "data": {
      "application/vnd.jupyter.widget-view+json": {
       "model_id": "cca1525b4b984f3f906b8f208d7dbab8",
       "version_major": 2,
       "version_minor": 0
      },
      "text/plain": [
       "  0%|          | 0/101 [00:00<?, ?it/s]"
      ]
     },
     "metadata": {},
     "output_type": "display_data"
    },
    {
     "data": {
      "application/vnd.jupyter.widget-view+json": {
       "model_id": "e82f29c12b0c4d5094b40f77efc6b472",
       "version_major": 2,
       "version_minor": 0
      },
      "text/plain": [
       "  0%|          | 0/101 [00:00<?, ?it/s]"
      ]
     },
     "metadata": {},
     "output_type": "display_data"
    },
    {
     "data": {
      "application/vnd.jupyter.widget-view+json": {
       "model_id": "067e2fbbbff4463188432ae92e93751b",
       "version_major": 2,
       "version_minor": 0
      },
      "text/plain": [
       "  0%|          | 0/101 [00:00<?, ?it/s]"
      ]
     },
     "metadata": {},
     "output_type": "display_data"
    },
    {
     "data": {
      "application/vnd.jupyter.widget-view+json": {
       "model_id": "2a8c5da54bac422b8cd86e23969f911b",
       "version_major": 2,
       "version_minor": 0
      },
      "text/plain": [
       "  0%|          | 0/101 [00:00<?, ?it/s]"
      ]
     },
     "metadata": {},
     "output_type": "display_data"
    },
    {
     "data": {
      "application/vnd.jupyter.widget-view+json": {
       "model_id": "031d259aa72f412f8dddbcb770a7ad47",
       "version_major": 2,
       "version_minor": 0
      },
      "text/plain": [
       "  0%|          | 0/101 [00:00<?, ?it/s]"
      ]
     },
     "metadata": {},
     "output_type": "display_data"
    },
    {
     "data": {
      "application/vnd.jupyter.widget-view+json": {
       "model_id": "a4f68830dd1d4cd3a4dc18954073fb4b",
       "version_major": 2,
       "version_minor": 0
      },
      "text/plain": [
       "  0%|          | 0/101 [00:00<?, ?it/s]"
      ]
     },
     "metadata": {},
     "output_type": "display_data"
    },
    {
     "data": {
      "application/vnd.jupyter.widget-view+json": {
       "model_id": "7bdf5fe43ff743ccab35439e45eb8c36",
       "version_major": 2,
       "version_minor": 0
      },
      "text/plain": [
       "  0%|          | 0/101 [00:00<?, ?it/s]"
      ]
     },
     "metadata": {},
     "output_type": "display_data"
    },
    {
     "data": {
      "application/vnd.jupyter.widget-view+json": {
       "model_id": "d594336e31f8486888cd6c5e3e13e908",
       "version_major": 2,
       "version_minor": 0
      },
      "text/plain": [
       "  0%|          | 0/101 [00:00<?, ?it/s]"
      ]
     },
     "metadata": {},
     "output_type": "display_data"
    },
    {
     "data": {
      "application/vnd.jupyter.widget-view+json": {
       "model_id": "a695b3c913204c5f9ab98fab90818b8d",
       "version_major": 2,
       "version_minor": 0
      },
      "text/plain": [
       "  0%|          | 0/101 [00:00<?, ?it/s]"
      ]
     },
     "metadata": {},
     "output_type": "display_data"
    },
    {
     "data": {
      "application/vnd.jupyter.widget-view+json": {
       "model_id": "2b967ae7bf31468e8157c0b18bfbc2e3",
       "version_major": 2,
       "version_minor": 0
      },
      "text/plain": [
       "  0%|          | 0/101 [00:00<?, ?it/s]"
      ]
     },
     "metadata": {},
     "output_type": "display_data"
    },
    {
     "data": {
      "application/vnd.jupyter.widget-view+json": {
       "model_id": "cd7ccd7c50914bd3afc5db5937fe6c5e",
       "version_major": 2,
       "version_minor": 0
      },
      "text/plain": [
       "  0%|          | 0/101 [00:00<?, ?it/s]"
      ]
     },
     "metadata": {},
     "output_type": "display_data"
    },
    {
     "data": {
      "application/vnd.jupyter.widget-view+json": {
       "model_id": "0e7405bd24494d51a28895afb3080d72",
       "version_major": 2,
       "version_minor": 0
      },
      "text/plain": [
       "  0%|          | 0/101 [00:00<?, ?it/s]"
      ]
     },
     "metadata": {},
     "output_type": "display_data"
    },
    {
     "data": {
      "application/vnd.jupyter.widget-view+json": {
       "model_id": "5a8fec0bb697449d9814c94756c48542",
       "version_major": 2,
       "version_minor": 0
      },
      "text/plain": [
       "  0%|          | 0/101 [00:00<?, ?it/s]"
      ]
     },
     "metadata": {},
     "output_type": "display_data"
    },
    {
     "data": {
      "application/vnd.jupyter.widget-view+json": {
       "model_id": "efc536508da149928a81dae931420c56",
       "version_major": 2,
       "version_minor": 0
      },
      "text/plain": [
       "  0%|          | 0/101 [00:00<?, ?it/s]"
      ]
     },
     "metadata": {},
     "output_type": "display_data"
    },
    {
     "data": {
      "application/vnd.jupyter.widget-view+json": {
       "model_id": "6394eda09f3041dca80afa48748e45dd",
       "version_major": 2,
       "version_minor": 0
      },
      "text/plain": [
       "  0%|          | 0/101 [00:00<?, ?it/s]"
      ]
     },
     "metadata": {},
     "output_type": "display_data"
    },
    {
     "data": {
      "application/vnd.jupyter.widget-view+json": {
       "model_id": "0df47536eefb4c6d93e276afeb1e205d",
       "version_major": 2,
       "version_minor": 0
      },
      "text/plain": [
       "  0%|          | 0/101 [00:00<?, ?it/s]"
      ]
     },
     "metadata": {},
     "output_type": "display_data"
    },
    {
     "data": {
      "application/vnd.jupyter.widget-view+json": {
       "model_id": "5ad2726d070d4971aefa5c0d26da4c45",
       "version_major": 2,
       "version_minor": 0
      },
      "text/plain": [
       "  0%|          | 0/101 [00:00<?, ?it/s]"
      ]
     },
     "metadata": {},
     "output_type": "display_data"
    },
    {
     "data": {
      "application/vnd.jupyter.widget-view+json": {
       "model_id": "529d2b52763346e38070a604dee7bbd8",
       "version_major": 2,
       "version_minor": 0
      },
      "text/plain": [
       "  0%|          | 0/101 [00:00<?, ?it/s]"
      ]
     },
     "metadata": {},
     "output_type": "display_data"
    },
    {
     "data": {
      "application/vnd.jupyter.widget-view+json": {
       "model_id": "17295e5d5d7e45bea31c469b322b7353",
       "version_major": 2,
       "version_minor": 0
      },
      "text/plain": [
       "  0%|          | 0/101 [00:00<?, ?it/s]"
      ]
     },
     "metadata": {},
     "output_type": "display_data"
    },
    {
     "data": {
      "application/vnd.jupyter.widget-view+json": {
       "model_id": "9ffe030c0a024dbe945211c532af4a6a",
       "version_major": 2,
       "version_minor": 0
      },
      "text/plain": [
       "  0%|          | 0/101 [00:00<?, ?it/s]"
      ]
     },
     "metadata": {},
     "output_type": "display_data"
    },
    {
     "data": {
      "application/vnd.jupyter.widget-view+json": {
       "model_id": "06561c32cb5f41ef983596c4bbedf493",
       "version_major": 2,
       "version_minor": 0
      },
      "text/plain": [
       "  0%|          | 0/101 [00:00<?, ?it/s]"
      ]
     },
     "metadata": {},
     "output_type": "display_data"
    },
    {
     "data": {
      "application/vnd.jupyter.widget-view+json": {
       "model_id": "b13e0075d67f42eebbae61eca99cb361",
       "version_major": 2,
       "version_minor": 0
      },
      "text/plain": [
       "  0%|          | 0/101 [00:00<?, ?it/s]"
      ]
     },
     "metadata": {},
     "output_type": "display_data"
    },
    {
     "data": {
      "application/vnd.jupyter.widget-view+json": {
       "model_id": "76b8cdda8deb4edb86475fb89498f420",
       "version_major": 2,
       "version_minor": 0
      },
      "text/plain": [
       "  0%|          | 0/101 [00:00<?, ?it/s]"
      ]
     },
     "metadata": {},
     "output_type": "display_data"
    },
    {
     "data": {
      "application/vnd.jupyter.widget-view+json": {
       "model_id": "ba7feb363d6045d9a25607947b658878",
       "version_major": 2,
       "version_minor": 0
      },
      "text/plain": [
       "  0%|          | 0/101 [00:00<?, ?it/s]"
      ]
     },
     "metadata": {},
     "output_type": "display_data"
    },
    {
     "data": {
      "application/vnd.jupyter.widget-view+json": {
       "model_id": "d535f956446b4a4594feb51db558a4c3",
       "version_major": 2,
       "version_minor": 0
      },
      "text/plain": [
       "  0%|          | 0/101 [00:00<?, ?it/s]"
      ]
     },
     "metadata": {},
     "output_type": "display_data"
    },
    {
     "data": {
      "application/vnd.jupyter.widget-view+json": {
       "model_id": "fc457d9a8e2d445a97fea04b2e9f22ad",
       "version_major": 2,
       "version_minor": 0
      },
      "text/plain": [
       "  0%|          | 0/101 [00:00<?, ?it/s]"
      ]
     },
     "metadata": {},
     "output_type": "display_data"
    },
    {
     "data": {
      "application/vnd.jupyter.widget-view+json": {
       "model_id": "8ed34985c48e4c27beecc10d594f9232",
       "version_major": 2,
       "version_minor": 0
      },
      "text/plain": [
       "  0%|          | 0/101 [00:00<?, ?it/s]"
      ]
     },
     "metadata": {},
     "output_type": "display_data"
    },
    {
     "data": {
      "application/vnd.jupyter.widget-view+json": {
       "model_id": "d5fd36d4b966401f872c8b7767bb3cb5",
       "version_major": 2,
       "version_minor": 0
      },
      "text/plain": [
       "  0%|          | 0/101 [00:00<?, ?it/s]"
      ]
     },
     "metadata": {},
     "output_type": "display_data"
    },
    {
     "data": {
      "application/vnd.jupyter.widget-view+json": {
       "model_id": "08bc74db6ce64224b636ffd72a8474cb",
       "version_major": 2,
       "version_minor": 0
      },
      "text/plain": [
       "  0%|          | 0/101 [00:00<?, ?it/s]"
      ]
     },
     "metadata": {},
     "output_type": "display_data"
    },
    {
     "data": {
      "application/vnd.jupyter.widget-view+json": {
       "model_id": "05a817c8f7324d1facdf5f721a18e278",
       "version_major": 2,
       "version_minor": 0
      },
      "text/plain": [
       "  0%|          | 0/101 [00:00<?, ?it/s]"
      ]
     },
     "metadata": {},
     "output_type": "display_data"
    },
    {
     "data": {
      "application/vnd.jupyter.widget-view+json": {
       "model_id": "cb6675d1315444d19722b03995c05461",
       "version_major": 2,
       "version_minor": 0
      },
      "text/plain": [
       "  0%|          | 0/101 [00:00<?, ?it/s]"
      ]
     },
     "metadata": {},
     "output_type": "display_data"
    },
    {
     "data": {
      "application/vnd.jupyter.widget-view+json": {
       "model_id": "edf3369e7bde410ba263d247aea6116f",
       "version_major": 2,
       "version_minor": 0
      },
      "text/plain": [
       "  0%|          | 0/101 [00:00<?, ?it/s]"
      ]
     },
     "metadata": {},
     "output_type": "display_data"
    },
    {
     "data": {
      "application/vnd.jupyter.widget-view+json": {
       "model_id": "b6004ebcb96a4df9b92a8aec0a070c71",
       "version_major": 2,
       "version_minor": 0
      },
      "text/plain": [
       "  0%|          | 0/101 [00:00<?, ?it/s]"
      ]
     },
     "metadata": {},
     "output_type": "display_data"
    },
    {
     "data": {
      "application/vnd.jupyter.widget-view+json": {
       "model_id": "bd6943db53f2408cbe740293e1cae30c",
       "version_major": 2,
       "version_minor": 0
      },
      "text/plain": [
       "  0%|          | 0/101 [00:00<?, ?it/s]"
      ]
     },
     "metadata": {},
     "output_type": "display_data"
    },
    {
     "data": {
      "application/vnd.jupyter.widget-view+json": {
       "model_id": "182df464834d4abba411a2bb897155f7",
       "version_major": 2,
       "version_minor": 0
      },
      "text/plain": [
       "  0%|          | 0/101 [00:00<?, ?it/s]"
      ]
     },
     "metadata": {},
     "output_type": "display_data"
    },
    {
     "data": {
      "application/vnd.jupyter.widget-view+json": {
       "model_id": "a5543b2c90a44855bb6509d4e3704713",
       "version_major": 2,
       "version_minor": 0
      },
      "text/plain": [
       "  0%|          | 0/101 [00:00<?, ?it/s]"
      ]
     },
     "metadata": {},
     "output_type": "display_data"
    },
    {
     "data": {
      "application/vnd.jupyter.widget-view+json": {
       "model_id": "9995493de1b14bedafd9a9bb5d600885",
       "version_major": 2,
       "version_minor": 0
      },
      "text/plain": [
       "  0%|          | 0/101 [00:00<?, ?it/s]"
      ]
     },
     "metadata": {},
     "output_type": "display_data"
    },
    {
     "data": {
      "application/vnd.jupyter.widget-view+json": {
       "model_id": "f1aa2acb2f2046d084ee878fbcad5433",
       "version_major": 2,
       "version_minor": 0
      },
      "text/plain": [
       "  0%|          | 0/101 [00:00<?, ?it/s]"
      ]
     },
     "metadata": {},
     "output_type": "display_data"
    },
    {
     "data": {
      "application/vnd.jupyter.widget-view+json": {
       "model_id": "936d5577463845f4867a5cdac7d9fbaa",
       "version_major": 2,
       "version_minor": 0
      },
      "text/plain": [
       "  0%|          | 0/101 [00:00<?, ?it/s]"
      ]
     },
     "metadata": {},
     "output_type": "display_data"
    },
    {
     "data": {
      "application/vnd.jupyter.widget-view+json": {
       "model_id": "dfc52be5e19c4ec1b4617b0f1127a96b",
       "version_major": 2,
       "version_minor": 0
      },
      "text/plain": [
       "  0%|          | 0/101 [00:00<?, ?it/s]"
      ]
     },
     "metadata": {},
     "output_type": "display_data"
    },
    {
     "data": {
      "application/vnd.jupyter.widget-view+json": {
       "model_id": "05821a03254b45069c3dc6edba2a6805",
       "version_major": 2,
       "version_minor": 0
      },
      "text/plain": [
       "  0%|          | 0/101 [00:00<?, ?it/s]"
      ]
     },
     "metadata": {},
     "output_type": "display_data"
    },
    {
     "data": {
      "application/vnd.jupyter.widget-view+json": {
       "model_id": "6da3f99ea8da4b2d80fcabdd95dcec53",
       "version_major": 2,
       "version_minor": 0
      },
      "text/plain": [
       "  0%|          | 0/101 [00:00<?, ?it/s]"
      ]
     },
     "metadata": {},
     "output_type": "display_data"
    },
    {
     "data": {
      "application/vnd.jupyter.widget-view+json": {
       "model_id": "6c15fdf6c4884d8ab5763f59b833ae94",
       "version_major": 2,
       "version_minor": 0
      },
      "text/plain": [
       "  0%|          | 0/101 [00:00<?, ?it/s]"
      ]
     },
     "metadata": {},
     "output_type": "display_data"
    },
    {
     "data": {
      "application/vnd.jupyter.widget-view+json": {
       "model_id": "dcdd30159e7f408c8f1630047d303258",
       "version_major": 2,
       "version_minor": 0
      },
      "text/plain": [
       "  0%|          | 0/101 [00:00<?, ?it/s]"
      ]
     },
     "metadata": {},
     "output_type": "display_data"
    },
    {
     "data": {
      "application/vnd.jupyter.widget-view+json": {
       "model_id": "e786bd92953e4c6dbed7f9e79e433668",
       "version_major": 2,
       "version_minor": 0
      },
      "text/plain": [
       "  0%|          | 0/101 [00:00<?, ?it/s]"
      ]
     },
     "metadata": {},
     "output_type": "display_data"
    },
    {
     "data": {
      "application/vnd.jupyter.widget-view+json": {
       "model_id": "e63e254f957c4acdaa9fea67f7288ef8",
       "version_major": 2,
       "version_minor": 0
      },
      "text/plain": [
       "  0%|          | 0/101 [00:00<?, ?it/s]"
      ]
     },
     "metadata": {},
     "output_type": "display_data"
    },
    {
     "data": {
      "application/vnd.jupyter.widget-view+json": {
       "model_id": "6c496a00c6364309ab033e894563e54c",
       "version_major": 2,
       "version_minor": 0
      },
      "text/plain": [
       "  0%|          | 0/101 [00:00<?, ?it/s]"
      ]
     },
     "metadata": {},
     "output_type": "display_data"
    },
    {
     "data": {
      "application/vnd.jupyter.widget-view+json": {
       "model_id": "9ecf3c31b6c447f594b3f70ead427709",
       "version_major": 2,
       "version_minor": 0
      },
      "text/plain": [
       "  0%|          | 0/101 [00:00<?, ?it/s]"
      ]
     },
     "metadata": {},
     "output_type": "display_data"
    },
    {
     "data": {
      "application/vnd.jupyter.widget-view+json": {
       "model_id": "9550f092ac4f4b47b3a9aec89c05b3de",
       "version_major": 2,
       "version_minor": 0
      },
      "text/plain": [
       "  0%|          | 0/101 [00:00<?, ?it/s]"
      ]
     },
     "metadata": {},
     "output_type": "display_data"
    },
    {
     "data": {
      "application/vnd.jupyter.widget-view+json": {
       "model_id": "fdd2fc7ce35f4db1af1c590aa4dc5d04",
       "version_major": 2,
       "version_minor": 0
      },
      "text/plain": [
       "  0%|          | 0/101 [00:00<?, ?it/s]"
      ]
     },
     "metadata": {},
     "output_type": "display_data"
    },
    {
     "data": {
      "application/vnd.jupyter.widget-view+json": {
       "model_id": "63dde9d073be499489c03da561d44c53",
       "version_major": 2,
       "version_minor": 0
      },
      "text/plain": [
       "  0%|          | 0/101 [00:00<?, ?it/s]"
      ]
     },
     "metadata": {},
     "output_type": "display_data"
    },
    {
     "data": {
      "application/vnd.jupyter.widget-view+json": {
       "model_id": "b12cc0c6d13a450a87132f110bd6f79c",
       "version_major": 2,
       "version_minor": 0
      },
      "text/plain": [
       "  0%|          | 0/101 [00:00<?, ?it/s]"
      ]
     },
     "metadata": {},
     "output_type": "display_data"
    },
    {
     "data": {
      "application/vnd.jupyter.widget-view+json": {
       "model_id": "34b3c6b7d4d5495da81b221350ea0e00",
       "version_major": 2,
       "version_minor": 0
      },
      "text/plain": [
       "  0%|          | 0/101 [00:00<?, ?it/s]"
      ]
     },
     "metadata": {},
     "output_type": "display_data"
    },
    {
     "data": {
      "application/vnd.jupyter.widget-view+json": {
       "model_id": "c1171b30261d43d0b31f22ae4607e8ef",
       "version_major": 2,
       "version_minor": 0
      },
      "text/plain": [
       "  0%|          | 0/101 [00:00<?, ?it/s]"
      ]
     },
     "metadata": {},
     "output_type": "display_data"
    },
    {
     "data": {
      "application/vnd.jupyter.widget-view+json": {
       "model_id": "f3b6b7a4473d46dc9dc3c42e947c9f06",
       "version_major": 2,
       "version_minor": 0
      },
      "text/plain": [
       "  0%|          | 0/101 [00:00<?, ?it/s]"
      ]
     },
     "metadata": {},
     "output_type": "display_data"
    }
   ],
   "source": [
    "p_vals = np.linspace(0,1,101)\n",
    "v_vals = np.linspace(0,1,101)\n",
    "\n",
    "eps = 9e-2\n",
    "eps = 0.15\n",
    "\n",
    "X1s = np.zeros((len(p_vals),len(v_vals)))\n",
    "X2s = np.zeros((len(p_vals),len(v_vals)))\n",
    "\n",
    "for i, pi in enumerate(tqdm(p_vals)):\n",
    "    for j, vi in enumerate(tqdm(v_vals,leave=False)):\n",
    "        t_max = 300\n",
    "        x0 = [0.5,0.5]\n",
    "        u = np.array([pi,vi])\n",
    "        c = np.array([c1,c2])\n",
    "        sol = solve_ivp(\n",
    "            two_tank_ode,\n",
    "            t_span = [0,t_max],\n",
    "            y0 = np.array(x0),\n",
    "            t_eval= np.linspace(0,t_max, 501),\n",
    "            args =(u,c,eps)\n",
    "        )\n",
    "        x1, x2 = sol.y[:,-1]\n",
    "        X1s[i,j] = x1\n",
    "        X2s[i,j] = x2"
   ]
  },
  {
   "cell_type": "code",
   "execution_count": 37,
   "id": "7a54c9a6",
   "metadata": {},
   "outputs": [
    {
     "data": {
      "text/plain": [
       "(0.9865122166140967,\n",
       " 0.07729118215486055,\n",
       " 1.0438843236958315,\n",
       " 0.14399168818316357)"
      ]
     },
     "execution_count": 37,
     "metadata": {},
     "output_type": "execute_result"
    }
   ],
   "source": [
    "X1s.max(),X1s.min(), X2s.max(), X2s.min()"
   ]
  },
  {
   "cell_type": "code",
   "execution_count": null,
   "id": "6406789b",
   "metadata": {},
   "outputs": [
    {
     "data": {
      "image/png": "[encoded data removed]",
      "text/plain": [
       "<Figure size 1200x600 with 4 Axes>"
      ]
     },
     "metadata": {},
     "output_type": "display_data"
    }
   ],
   "source": [
    "fig, (ax1,ax2) = plt.subplots(1,2,figsize=(12,6))\n",
    "im1 = ax1.imshow(X1s,extent=[v_vals[0],v_vals[-1],p_vals[0],p_vals[-1]],origin='lower')\n",
    "cbar1 = fig.colorbar(im1,ax=ax1,fraction=0.046,pad=0.04)\n",
    "ax1.set_ylabel(\"Pump Modulation\")\n",
    "ax1.set_xlabel(\"Valve Opening\")\n",
    "ax1.set_title(\"Tank 1\")\n",
    "ax1.grid(False)\n",
    "\n",
    "im2 = ax2.imshow(X2s,extent=[v_vals[0],v_vals[-1],p_vals[0],p_vals[-1]],origin='lower')\n",
    "cbar2 = fig.colorbar(im2,ax=ax2,fraction=0.046,pad=0.04)\n",
    "ax2.set_xlabel(\"Valve Opening\")\n",
    "ax2.set_title(\"Tank 2\")\n",
    "ax2.grid(False)\n",
    "\n",
    "plt.suptitle(f\"Steady State.\\n t={t_max}. eps = {eps}. c1 = {c1}, c2 = {c2}\",size=25)\n",
    "plt.tight_layout()"
   ]
  },
  {
   "cell_type": "markdown",
   "id": "f320ca99",
   "metadata": {},
   "source": [
    "## Look at $g_1$  and $g_2$"
   ]
  },
  {
   "cell_type": "code",
   "execution_count": 45,
   "id": "aac577c9",
   "metadata": {},
   "outputs": [],
   "source": [
    "def g1(x,y,p,v,c1=c1,c2=c2):\n",
    "    return (1-v)*p*c1/c2*np.sqrt(x)\n",
    "\n",
    "def g2(x,y,p,v,c1=c1,c2=c2):\n",
    "    return v*p*c1/c2*(np.sqrt(x)+np.sqrt(y))"
   ]
  },
  {
   "cell_type": "code",
   "execution_count": 123,
   "id": "87610462",
   "metadata": {},
   "outputs": [],
   "source": [
    "p = 0.1\n",
    "v = 0.1\n",
    "\n",
    "x1_lin = np.linspace(0,1,101)\n",
    "x2_lin = np.linspace(0,1,101)\n",
    "\n",
    "X1, X2 = np.meshgrid(x1_lin,x2_lin)\n",
    "\n",
    "Z1 = g1(x=X1,y=X2,p=p,v=v)\n",
    "Z2 = g2(x=X1,y=X2,p=p,v=v)"
   ]
  },
  {
   "cell_type": "code",
   "execution_count": null,
   "id": "8b308b32",
   "metadata": {},
   "outputs": [
    {
     "data": {
      "image/png": "[encoded data removed]",
      "text/plain": [
       "<Figure size 1200x500 with 3 Axes>"
      ]
     },
     "metadata": {},
     "output_type": "display_data"
    }
   ],
   "source": [
    "p = 0.1\n",
    "v = 0.1\n",
    "\n",
    "x1_lin = np.linspace(0,1,101)\n",
    "x2_lin = np.linspace(0,1,101)\n",
    "\n",
    "X1, X2 = np.meshgrid(x1_lin,x2_lin)\n",
    "\n",
    "Z1 = g1(x=X1,y=X2,p=p,v=v)\n",
    "Z2 = g2(x=X1,y=X2,p=p,v=v)\n",
    "\n",
    "\n",
    "fig, (ax1, ax2) = plt.subplots(1, 2, figsize=(12, 5))\n",
    "\n",
    "\n",
    "vmin = min((X1 - Z1).min(), (X2 - Z2).min())\n",
    "vmax = max((X1 - Z1).max(), (X2 - Z2).max())\n",
    "# vmin=None\n",
    "# vmax=None\n",
    "\n",
    "im1 = ax1.contourf(X1, X2, X1 - Z1, levels=100, vmin=vmin, vmax=vmax)\n",
    "im2 = ax2.contourf(X1, X2, X2 - Z2, levels=100, vmin=vmin, vmax=vmax)\n",
    "\n",
    "ax1.contour(X1, X2, X1 - Z1, levels=[0], colors='red', linewidths=2)\n",
    "ax2.contour(X1, X2, X2 - Z2, levels=[0], colors='red', linewidths=2)\n",
    "\n",
    "ax2.contour(X1, X2, X1 - Z1, levels=[0], colors='red', linewidths=2,linestyles='--')\n",
    "ax1.contour(X1, X2, X2 - Z2, levels=[0], colors='red', linewidths=2,linestyles='--')\n",
    "\n",
    "cbar = fig.colorbar(im1, ax=[ax1, ax2], fraction=0.046, pad=0.04)\n",
    "\n",
    "ax1.set_ylabel(r\"$x_2$\", size=20)\n",
    "ax1.set_xlabel(r\"$x_1$\", size=20)\n",
    "ax1.set_title(r\"$x_1 - g_1$\", size=25)\n",
    "\n",
    "ax2.set_xlabel(r\"$x_1$\", size=20)\n",
    "ax2.set_title(r\"$x_2 - g_2$\", size=25)\n",
    "\n",
    "# plt.tight_layout()\n",
    "plt.suptitle(rf\"$p$={p}, $v$={v}\",size=25,y=1.02)\n",
    "plt.show()\n"
   ]
  },
  {
   "cell_type": "code",
   "execution_count": null,
   "id": "9d6b9c4b",
   "metadata": {},
   "outputs": [],
   "source": [
    "# Parameter grid\n",
    "p_vals = np.linspace(0, 1, 5)\n",
    "v_vals = np.linspace(0, 1, 5)\n",
    "\n",
    "# Grid for evaluation\n",
    "x1_lin = np.linspace(0, 1, 101)\n",
    "x2_lin = np.linspace(0, 1, 101)\n",
    "X1, X2 = np.meshgrid(x1_lin, x2_lin)\n",
    "\n",
    "# --- Compute global vmin/vmax across all (p,v) combinations ---\n",
    "all_vals = []\n",
    "for p in p_vals:\n",
    "    for v in v_vals:\n",
    "        Z1 = g1(x=X1, y=X2, p=p, v=v)\n",
    "        Z2 = g2(x=X1, y=X2, p=p, v=v)\n",
    "        all_vals.append((X1 - Z1).min())\n",
    "        all_vals.append((X1 - Z1).max())\n",
    "        all_vals.append((X2 - Z2).min())\n",
    "        all_vals.append((X2 - Z2).max())\n",
    "\n",
    "vmin = min(all_vals)\n",
    "vmax = max(all_vals)\n",
    "\n",
    "# ---------------- FIGURE 1: x1 - g1 ----------------\n",
    "fig1, axes1 = plt.subplots(len(p_vals), len(v_vals), figsize=(20, 20), constrained_layout=True)\n",
    "\n",
    "for i, p in enumerate(p_vals):\n",
    "    for j, v in enumerate(v_vals):\n",
    "        ax = axes1[i, j]\n",
    "\n",
    "        Z1 = g1(x=X1, y=X2, p=p, v=v)\n",
    "        Z2 = g2(x=X1, y=X2, p=p, v=v)\n",
    "\n",
    "        im1 = ax.contourf(X1, X2, X1 - Z1, levels=100, vmin=vmin, vmax=vmax)\n",
    "        ax.contour(X1, X2, X1 - Z1, levels=[0], colors='red', linewidths=2)\n",
    "        ax.contour(X1, X2, X2 - Z2, levels=[0], colors='red', linewidths=2, linestyles='--')\n",
    "\n",
    "        ax.set_title(rf\"$p={p:.2f}, v={v:.2f}$\", fontsize=20)\n",
    "        ax.set_xticks([]); ax.set_yticks([])\n",
    "\n",
    "fig1.colorbar(im1, ax=axes1.ravel().tolist(), fraction=0.8, pad=0.04)\n",
    "fig1.suptitle(r\"$x_1 - g_1$ across $(p,v)$ grid\", size=28, y=1.02)\n",
    "\n",
    "\n",
    "# ---------------- FIGURE 2: x2 - g2 ----------------\n",
    "fig2, axes2 = plt.subplots(len(p_vals), len(v_vals), figsize=(20, 20), constrained_layout=True)\n",
    "\n",
    "for i, p in enumerate(p_vals):\n",
    "    for j, v in enumerate(v_vals):\n",
    "        ax = axes2[i, j]\n",
    "\n",
    "        Z1 = g1(x=X1, y=X2, p=p, v=v)\n",
    "        Z2 = g2(x=X1, y=X2, p=p, v=v)\n",
    "\n",
    "        im2 = ax.contourf(X1, X2, X2 - Z2, levels=100, vmin=vmin, vmax=vmax)\n",
    "        ax.contour(X1, X2, X2 - Z2, levels=[0], colors='red', linewidths=2)\n",
    "        ax.contour(X1, X2, X1 - Z1, levels=[0], colors='red', linewidths=2, linestyles='--')\n",
    "\n",
    "        ax.set_title(rf\"$p={p:.2f}, v={v:.2f}$\", fontsize=20)\n",
    "        ax.set_xticks([]); ax.set_yticks([])\n",
    "\n",
    "fig2.colorbar(im2, ax=axes2.ravel().tolist(), fraction=0.8, pad=0.04)\n",
    "fig2.suptitle(r\"$x_2 - g_2$ across $(p,v)$ grid\", size=28, y=1.02)\n",
    "\n",
    "plt.show()\n"
   ]
  },
  {
   "cell_type": "markdown",
   "id": "07ef0c96",
   "metadata": {},
   "source": [
    "## soft penalty\n",
    "(idea but probably won't do this---depends on analysis)\n",
    "$$\n",
    "\\dot x = F(x) + h(x)\n",
    "$$\n",
    "where $F$ is two tank system and $h$ is boundary penalty given by \n",
    "$$\n",
    "h(x) = \\begin{cases}\n",
    " 0, & x < 1 - \\epsilon\\\\\n",
    " - \\texttt{Relu}(x), & \\text{else}\n",
    "\\end{cases}\n",
    "$$\n",
    "\n",
    "Can replace $\\texttt{Relu}$ with something else as well."
   ]
  },
  {
   "cell_type": "markdown",
   "id": "17280976",
   "metadata": {},
   "source": []
  }
 ],
 "metadata": {
  "kernelspec": {
   "display_name": ".venv311",
   "language": "python",
   "name": "python3"
  },
  "language_info": {
   "codemirror_mode": {
    "name": "ipython",
    "version": 3
   },
   "file_extension": ".py",
   "mimetype": "text/x-python",
   "name": "python",
   "nbconvert_exporter": "python",
   "pygments_lexer": "ipython3",
   "version": "3.11.13"
  }
 },
 "nbformat": 4,
 "nbformat_minor": 5
}
