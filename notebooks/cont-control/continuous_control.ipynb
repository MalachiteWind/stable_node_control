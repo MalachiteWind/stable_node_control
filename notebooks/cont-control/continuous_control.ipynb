{
 "cells": [
  {
   "cell_type": "code",
   "execution_count": 131,
   "id": "ded63920",
   "metadata": {},
   "outputs": [],
   "source": [
    "from data.tanks import two_tank_system\n",
    "import numpy as np\n",
    "import matplotlib.pyplot as plt\n",
    "plt.style.use('ggplot')\n",
    "\n",
    "from scipy.optimize import root as sp_root\n",
    "from scipy.integrate import solve_ivp as sp_solve_ivp\n",
    "import torch\n",
    "from stabnode.node import (\n",
    "    FeluSigmoidMLP,\n",
    "    GeluSigmoidMLP,\n",
    "    StabNODE\n",
    ")\n",
    "device='cpu'\n"
   ]
  },
  {
   "cell_type": "markdown",
   "id": "6f5b44e8",
   "metadata": {},
   "source": [
    "$$\n",
    "\\mathcal{R}(u)\\triangleq g_{\\text{NODE}}^K(x_{\\text{init}},u) - x_{\\text{target}}\n",
    "$$\n",
    "$$\n",
    "u_{n+1} = u_{n} - \\eta \\nabla \\mathcal{R}(u_n)\n",
    "$$"
   ]
  },
  {
   "cell_type": "code",
   "execution_count": 10,
   "id": "901775c7",
   "metadata": {},
   "outputs": [],
   "source": [
    "model_path = \"../../results/g_bounds/g_0_1/model_opt_states.pt\"\n",
    "\n",
    "# model_path = \"g_0_1/model_opt_states.pt\"\n",
    "\n",
    "f = FeluSigmoidMLP(dims=[2,10,10,2],lower_bound=-1, upper_bound=0)\n",
    "g = GeluSigmoidMLP(dims=[4,10,10,2],lower_bound=0, upper_bound=1)\n",
    "model = StabNODE(f,g).to(device)\n",
    "\n",
    "config = torch.load(model_path, map_location=device, weights_only=False)\n",
    "f.load_state_dict(config[\"f_state_dict\"])\n",
    "g.load_state_dict(config[\"g_state_dict\"])\n",
    "model.load_state_dict(config[\"stabnode_state_dict\"])\n",
    "\n",
    "g_eval = g.eval()"
   ]
  },
  {
   "cell_type": "code",
   "execution_count": null,
   "id": "77c30f0b",
   "metadata": {},
   "outputs": [],
   "source": []
  },
  {
   "cell_type": "code",
   "execution_count": null,
   "id": "0cfa99c3",
   "metadata": {},
   "outputs": [],
   "source": [
    "x_target = torch.tensor([0.8,0.2],dtype=torch.float32,requires_grad=False)\n",
    "x0 = torch.tensor([0.5,0.5],dtype=torch.float32,requires_grad=False)\n",
    "u0 = torch.tensor([0.5,0.5],dtype=torch.float32,requires_grad=True)\n",
    "k=10\n",
    "\n",
    "def R(u,x,k, x_target):\n",
    "    for _ in range(k):\n",
    "        x = g_eval(x, u)\n",
    "    return x - x_target\n",
    "\n",
    "\n",
    "u = R(u0,x0,k,x_target)\n",
    "\n",
    "u_norm = torch.sum(u**2)\n",
    "\n",
    "u_norm.backward()\n",
    "\n",
    "\n",
    "\n",
    "\n"
   ]
  },
  {
   "cell_type": "code",
   "execution_count": 122,
   "id": "7d43816f",
   "metadata": {},
   "outputs": [],
   "source": [
    "def u_prime(u,x,x_target,eta,k):\n",
    "    u = torch.tensor(u,dtype=torch.float32, requires_grad=True)\n",
    "    x = torch.tensor(x,dtype=torch.float32, requires_grad=False)\n",
    "    x_target = torch.tensor(x_target,dtype=torch.float32, requires_grad=False)\n",
    "    resid = torch.sum(R(u,x,k,x_target)**2)\n",
    "    resid.backward()\n",
    "\n",
    "    grad = u.grad.numpy()\n",
    "    return -eta*grad\n",
    "\n",
    "\n"
   ]
  },
  {
   "cell_type": "code",
   "execution_count": 123,
   "id": "ab51c6b6",
   "metadata": {},
   "outputs": [],
   "source": [
    "def two_tank_system_control(t,xu, x_target,eta,k):\n",
    "    x = xu[:2]\n",
    "    u = xu[2:]\n",
    "    dx1dt, dx2dt = two_tank_system(t,x,u)\n",
    "    dpdt, dvdt = u_prime(u,x,x_target,eta,k)\n",
    "\n",
    "    return np.hstack([dx1dt,dx2dt,dpdt,dvdt])"
   ]
  },
  {
   "cell_type": "code",
   "execution_count": 124,
   "id": "726a025f",
   "metadata": {},
   "outputs": [],
   "source": [
    "xu = np.array([0.5,0.5,0.5,0.5])\n",
    "x_target = np.array([0.8,0.2])"
   ]
  },
  {
   "cell_type": "code",
   "execution_count": 125,
   "id": "3e577605",
   "metadata": {},
   "outputs": [
    {
     "data": {
      "text/plain": [
       "array([ 9.8156117e-05, -1.1955423e-04], dtype=float32)"
      ]
     },
     "execution_count": 125,
     "metadata": {},
     "output_type": "execute_result"
    }
   ],
   "source": [
    "u_prime(xu[2:],xu[:2],x_target,eta=1e-4,k=10)"
   ]
  },
  {
   "cell_type": "code",
   "execution_count": null,
   "id": "4b917966",
   "metadata": {},
   "outputs": [],
   "source": []
  },
  {
   "cell_type": "code",
   "execution_count": 126,
   "id": "b6ad7ff7",
   "metadata": {},
   "outputs": [
    {
     "data": {
      "text/plain": [
       "array([-8.28427125e-03,  2.00000000e-02,  9.81561170e-05, -1.19554228e-04])"
      ]
     },
     "execution_count": 126,
     "metadata": {},
     "output_type": "execute_result"
    }
   ],
   "source": [
    "two_tank_system_control(0,xu,x_target,eta=1e-4,k=10)"
   ]
  },
  {
   "cell_type": "code",
   "execution_count": 207,
   "id": "4e64fb80",
   "metadata": {},
   "outputs": [],
   "source": [
    "xu0 = np.array([0.5,0.5,0.5,0.5])\n",
    "x_target = np.array([0.2,0.4])\n",
    "t_max = 300\n",
    "n_colloc=501\n",
    "eta=1e-2\n",
    "k=10\n",
    "\n",
    "sol = sp_solve_ivp(\n",
    "    two_tank_system_control,\n",
    "    t_span=[0,t_max],\n",
    "    y0 = xu0,\n",
    "    t_eval=np.linspace(0,t_max,n_colloc),\n",
    "    args = (x_target,eta,k)\n",
    ")"
   ]
  },
  {
   "cell_type": "code",
   "execution_count": 208,
   "id": "2f41ac84",
   "metadata": {},
   "outputs": [],
   "source": [
    "t = sol.t\n",
    "\n",
    "XU = sol.y\n",
    "X = XU[:2,:]\n",
    "U = XU[2:,:]"
   ]
  },
  {
   "cell_type": "code",
   "execution_count": 209,
   "id": "07ba4f4d",
   "metadata": {},
   "outputs": [
    {
     "data": {
      "image/png": "[encoded data removed]",
      "text/plain": [
       "<Figure size 640x480 with 1 Axes>"
      ]
     },
     "metadata": {},
     "output_type": "display_data"
    },
    {
     "data": {
      "text/plain": [
       "[<matplotlib.lines.Line2D at 0x17c3bcd60>]"
      ]
     },
     "execution_count": 209,
     "metadata": {},
     "output_type": "execute_result"
    },
    {
     "data": {
      "image/png": "[encoded data removed]",
      "text/plain": [
       "<Figure size 640x480 with 1 Axes>"
      ]
     },
     "metadata": {},
     "output_type": "display_data"
    }
   ],
   "source": [
    "plt.plot(t,X[0,:])\n",
    "plt.plot(t,X[1,:])\n",
    "plt.show()\n",
    "plt.plot(t,U[0,:])\n",
    "plt.plot(t,U[1,:])"
   ]
  },
  {
   "cell_type": "code",
   "execution_count": 188,
   "id": "7dde5f92",
   "metadata": {},
   "outputs": [],
   "source": [
    "def g_iter(x, u, max_iter):\n",
    "    for _ in range(max_iter):\n",
    "        x = g_eval(x, u)\n",
    "    return x\n",
    "\n",
    "def control_resid(u, x0, x1, max_iter=10):\n",
    "    xi = g_iter(x0, u, max_iter)\n",
    "    return x1 - xi\n",
    "\n",
    "def control_policy(u0, x0, x1, eta, gd_steps, max_iter=10):\n",
    "    u = u0.clone().detach().requires_grad_(True)\n",
    "    resid_hist = []\n",
    "    grad_norms = []\n",
    "\n",
    "    for _ in range(gd_steps):\n",
    "        if u.grad is not None:\n",
    "            u.grad.zero_()\n",
    "\n",
    "        resid = torch.sum(control_resid(u, x0, x1, max_iter=max_iter)**2)\n",
    "        resid_hist.append(resid.item())\n",
    "\n",
    "        resid.backward()\n",
    "\n",
    "        with torch.no_grad():\n",
    "            grad = u.grad\n",
    "            grad_norms.append(torch.linalg.norm(grad).item())\n",
    "            u -= eta * grad\n",
    "            \n",
    "        u = u.detach().requires_grad_(True)\n",
    "\n",
    "    return u, resid_hist, grad_norms"
   ]
  },
  {
   "cell_type": "code",
   "execution_count": 71,
   "id": "2e344737",
   "metadata": {},
   "outputs": [
    {
     "data": {
      "text/plain": [
       "(tensor([0.5936, 0.4189], requires_grad=True),\n",
       " [0.7594255208969116,\n",
       "  0.734637439250946,\n",
       "  0.7073194980621338,\n",
       "  0.6803169846534729,\n",
       "  0.6551786661148071,\n",
       "  0.6317561864852905,\n",
       "  0.6101340651512146,\n",
       "  0.5933876633644104,\n",
       "  0.5861436724662781,\n",
       "  0.5846670269966125],\n",
       " [1.5468626022338867,\n",
       "  1.6471937894821167,\n",
       "  1.6559007167816162,\n",
       "  1.6008490324020386,\n",
       "  1.5422877073287964,\n",
       "  1.4936423301696777,\n",
       "  1.3753432035446167,\n",
       "  0.9923308491706848,\n",
       "  0.4484955072402954,\n",
       "  0.2601109743118286])"
      ]
     },
     "execution_count": 71,
     "metadata": {},
     "output_type": "execute_result"
    }
   ],
   "source": [
    "control_policy(u0, x0,x_target,eta=1e-2,gd_steps=10)"
   ]
  },
  {
   "cell_type": "code",
   "execution_count": null,
   "id": "5217558e",
   "metadata": {},
   "outputs": [],
   "source": [
    "def two_tank_cont_control_system(t,x):\n",
    "    pass"
   ]
  }
 ],
 "metadata": {
  "kernelspec": {
   "display_name": ".venv",
   "language": "python",
   "name": "python3"
  },
  "language_info": {
   "codemirror_mode": {
    "name": "ipython",
    "version": 3
   },
   "file_extension": ".py",
   "mimetype": "text/x-python",
   "name": "python",
   "nbconvert_exporter": "python",
   "pygments_lexer": "ipython3",
   "version": "3.10.5"
  }
 },
 "nbformat": 4,
 "nbformat_minor": 5
}
