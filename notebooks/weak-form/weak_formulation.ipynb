{
 "cells": [
  {
   "cell_type": "markdown",
   "id": "ec347cba",
   "metadata": {},
   "source": [
    "# Investigate Weak formulation of ode solution for loss\n",
    "Consider the stiff ode \n",
    "\n",
    "$$\n",
    "\\dot{x} = F(x;u), \\quad x \\in \\Omega \\subseteq \\mathbb{R}^d\n",
    "$$\n",
    "\n",
    "Where we wish to learn $F$ via a paremterized $F_\\theta$ via some (possibly noisy) observations $\\{x_i\\}_{i=1}^n$\n",
    "Consider the test function $\\{\\phi_k\\}_{k\\in[K]} \\in H^1$ (sobolev space) that is locally compact on an interval $T$ and a fixed $k$ we have\n",
    "\n",
    "$$\n",
    "\\int_T \\phi_k(t) \\dot{x} dt = \\int_T \\phi_i(t)F(x;u)  dt\n",
    "$$\n",
    "$$\n",
    "\\underbrace{\\phi_k(t)x \\bigg|_{\\partial T}}_{=0} - \\int_T  \\dot{\\phi}_k(t)x(t)dt = \\int_T \\phi_k(t)F(x;u)  dt\n",
    "$$\n",
    "\n",
    "We can then define the following residual\n",
    "\n",
    "$$\n",
    "R_k(\\theta) = \\int_T \\underbrace{\\left(\\dot{\\phi}_k(t) x(t) + \\phi_k(t) F_\\theta(x;u)\\right)}_{=I_k(t)}dt\n",
    "$$\n",
    "where can use a trapezodial rule to approximate the integral\n",
    "\n",
    "$$\n",
    "R_k \\approx \\hat{R}_k \\triangleq \\sum_{i=1}^{n-1} \\frac{\\Delta t_i}{2} \\left[I_k(t_i) + I_k(t_{i+1})\\right] = \\mathcal{O}(\\Delta t ^{p+1})\n",
    "$$\n",
    "\n",
    "\n",
    "<!-- $$\n",
    "I_k(\\theta)\\triangleq \\sum_{i=1}^n w_i \\cdot \\phi_k(t_i)\\cdot F_\\theta(x_i;u_i)\\cdot\\Delta t_i\n",
    "$$\n",
    "$$\n",
    "D_k \\triangleq -1 \\cdot \\sum_{i=1}^n w_i \\cdot x_i \\cdot \\dot{\\phi}_k(t_i)\\cdot \\Delta t_i\n",
    "$$\n",
    "\n",
    "to be quadrature approximations of the integrals above -->\n",
    "\n",
    "We then define the least squares loss to be\n",
    "\n",
    "$$\n",
    "\\mathcal{L}(\\theta) \\triangleq \\sum_{k=1}^K \\left| \\hat{R}_k(\\theta) \\right|^2.\n",
    "$$\n",
    "\n",
    "Where the loss $\\mathcal{L}$ can be minimzed in a classical optimizaiton approach. As well as NODE approach. Where we first try and let \n",
    "\n",
    "$$\n",
    "F_\\theta(x;u) := \\texttt{StabNODE(Felu, Gelu)}\n",
    "$$\n",
    "\n",
    "where $\\theta$ are the tunable parameters in $\\texttt{Felu}$ and $\\texttt{Gelu}$\n"
   ]
  },
  {
   "cell_type": "code",
   "execution_count": null,
   "id": "a3ed2ff2",
   "metadata": {},
   "outputs": [],
   "source": [
    "import torch\n",
    "import numpy as np\n",
    "import matplotlib.pyplot as plt\n",
    "from scipy.interpolate import interp1d\n",
    "from stabnode.utils import set_global_seed\n",
    "from sklearn.preprocessing import MinMaxScaler\n",
    "\n",
    "seed = 1234\n",
    "set_global_seed(seed=seed)"
   ]
  },
  {
   "cell_type": "markdown",
   "id": "461746e8",
   "metadata": {},
   "source": [
    "### Test functions ($\\phi$) from [Weak SINDY: Galerkin-based Data-Driven Model Selection](https://arxiv.org/abs/2005.04339) \n",
    "\n",
    "Let $\\mathcal{S}$ be the space of unimodal piecewise polynomials\n",
    "\n",
    "$$\n",
    "\\phi(t) = \\begin{cases}\n",
    "    C(t-a)^p(b-t)^q, & t \\in [a,b]\\\\\n",
    "    0, & \\text{otherwise},\n",
    "\\end{cases}\n",
    "$$\n",
    "with $(a,b) \\subset t\\times t$, $a<b$, and $p,q \\geq 1$. And the normalization constant give by \n",
    "$$\n",
    "C = \\frac{1}{p^p q^q}\\left(\\frac{p+q}{b-a}\\right)^{p+q}\n",
    "$$\n",
    "\n",
    "We also include the first derivative\n",
    "\n"
   ]
  },
  {
   "cell_type": "markdown",
   "id": "b863f9d8",
   "metadata": {},
   "source": [
    "$$\n",
    "\\partial_t \\phi(t) = \\begin{cases}\n",
    "C \\bigg(p(t-a)^{p-1}(b-t)^q - (t-a)^pq(b-t)^{q-1}\\bigg), & t\\in [a,b]\\\\\n",
    "0, & \\text{otherwise},\n",
    "\\end{cases}\n",
    "$$"
   ]
  },
  {
   "cell_type": "code",
   "execution_count": null,
   "metadata": {},
   "outputs": [],
   "source": [
    "# a,b,p,q = 1,4,1,1\n",
    "def phi(t:torch.Tensor,a:float,b:float,p:float,q:float)->torch.Tensor:\n",
    "    C = (1 / ((p**p)*(q**q)))*((p+q)/(b-a))**(p+q)\n",
    "    vals = torch.zeros_like(t)\n",
    "    mask = (t>a) & (t<b)\n",
    "    vals[mask] = C*(t[mask]-a)**p*(b-t[mask])**q\n",
    "    return vals\n",
    "\n",
    "def dphi(t:torch.Tensor,a:float,b:float,p:float,q:float)->torch.Tensor:\n",
    "    C = (1 / ((p**p)*(q**q)))*((p+q)/(b-a))**(p+q)\n",
    "    vals = torch.zeros_like(t)\n",
    "    mask = (t>a) & (t<b)\n",
    "    term1 = p*(t[mask]-a)**(p-1)*(b-t[mask])**q\n",
    "    term2 = (t[mask]-a)**p*q*(b-t[mask])**(q-1)\n",
    "    vals[mask] = C*(term1-term2)\n",
    "    return vals\n"
   ]
  },
  {
   "cell_type": "code",
   "execution_count": null,
   "id": "41edc3f1",
   "metadata": {},
   "outputs": [],
   "source": [
    "fig, (ax1,ax2)  = plt.subplots(1,2,figsize=(12,6))\n",
    "\n",
    "t_vals = torch.linspace(-2,2,201)\n",
    "a,b=-1,1\n",
    "ps = [1,2,3,4,5,6,10]\n",
    "qs = [1,2,3,4,5,6,10]\n",
    "for p,q in zip(ps,qs):\n",
    "    label = rf\"$p$={p}, $q$={q}\"\n",
    "    ax1.plot(t_vals,phi(t_vals,a,b,p,q),label=label)\n",
    "    ax2.plot(t_vals,dphi(t_vals,a,b,p,q),label=label)\n",
    "ax1.grid(True)\n",
    "ax1.set_title(r\"$\\phi_{p,q}(t)$\",size=20,family='serif')\n",
    "ax1.set_xlabel(r\"t\")\n",
    "ax1.legend(prop={'family':'serif'})\n",
    "ax2.grid(True)\n",
    "ax2.set_title(r\"$\\partial_t\\phi_{p,q}(t)$\",size=20,family='serif')\n",
    "ax2.legend(prop={'family':'serif'})\n",
    "plt.suptitle(\"Piecewise polynomial test function\",family='serif',size=25)\n",
    "plt.tight_layout()\n",
    "plt.savefig(\"piecewise_poly_test_functions.png\")\n",
    "plt.show()"
   ]
  },
  {
   "cell_type": "code",
   "execution_count": null,
   "id": "2d7c1298",
   "metadata": {},
   "outputs": [],
   "source": [
    "from stabnode.node import StabNODE, Felu, Gelu\n",
    "from data.hysteresis import simulate_steady_state"
   ]
  },
  {
   "cell_type": "code",
   "execution_count": null,
   "id": "3822d56d",
   "metadata": {},
   "outputs": [],
   "source": [
    "lam_start = -1 \n",
    "lam_end = 1\n",
    "\n",
    "n_points = 250\n",
    "\n",
    "lam_increase = np.linspace(lam_start,lam_end, n_points)\n",
    "lam_decrease = np.linspace(lam_end, lam_start, n_points)\n",
    "\n",
    "lam_np = np.hstack((lam_increase,lam_decrease))\n",
    "repeat = 1\n",
    "for _ in range(repeat):\n",
    "    lam_np = np.hstack((lam_np, lam_np))\n",
    "plt.plot(lam_np)\n",
    "plt.show()\n"
   ]
  },
  {
   "cell_type": "code",
   "execution_count": null,
   "id": "a0ba0fad",
   "metadata": {},
   "outputs": [],
   "source": [
    "X, lam, t=simulate_steady_state(lam_np,x0=-1.31,t_span=[0,20],t_eval=np.linspace(0,20,201))"
   ]
  },
  {
   "cell_type": "code",
   "execution_count": null,
   "id": "aa2d2f0d",
   "metadata": {},
   "outputs": [],
   "source": [
    "\n",
    "scaler = MinMaxScaler(feature_range=(-1,1))\n",
    "scaler.fit(X.T)\n",
    "X_scaled= scaler.transform(X.T).T\n",
    "X_scaled = torch.tensor(X_scaled, dtype=torch.float32, device='cpu')"
   ]
  },
  {
   "cell_type": "code",
   "execution_count": null,
   "id": "0dc7dc1f",
   "metadata": {},
   "outputs": [],
   "source": [
    "interp_lam = interp1d(t.numpy(), lam.numpy(), axis=0, kind='linear')\n",
    "\n",
    "def control_func(t: torch.Tensor) -> torch.Tensor:\n",
    "    \"\"\"\n",
    "    t: Tensor of shape [B] or scalar\n",
    "    Returns: Tensor of shape [B, 1]\n",
    "    \"\"\"\n",
    "    if t.dim() == 0:  # scalar time\n",
    "        t_scalar = t.item()\n",
    "        lam_t = torch.tensor(interp_lam(t_scalar), dtype=torch.float32)\n",
    "        return lam_t.unsqueeze(0)\n",
    "    else:  # batched time\n",
    "        lam_t = interp_lam(t.detach().cpu().numpy())  # shape [B,]\n",
    "        lam_t = torch.tensor(lam_t, dtype=torch.float32).unsqueeze(1)  # shape [B, 1]\n",
    "        return lam_t.to(t.device)"
   ]
  },
  {
   "cell_type": "code",
   "execution_count": null,
   "id": "bfb1bf02",
   "metadata": {},
   "outputs": [],
   "source": [
    "sample_rate =100\n",
    "train_idx = torch.arange(0,len(t),sample_rate)\n",
    "X_train = X_scaled[:,train_idx]\n",
    "t_train = t[train_idx]\n",
    "lam_train = lam[train_idx]"
   ]
  },
  {
   "cell_type": "code",
   "execution_count": null,
   "id": "5e4379d3",
   "metadata": {},
   "outputs": [],
   "source": [
    "f = Felu(1,1,4)\n",
    "g = Gelu(2,1,2)\n",
    "\n",
    "model = StabNODE(f,g).to('cpu')"
   ]
  },
  {
   "cell_type": "code",
   "execution_count": null,
   "id": "e46c8fb0",
   "metadata": {},
   "outputs": [],
   "source": [
    "# i=1\n",
    "# model.f(X_train[:,i])"
   ]
  },
  {
   "cell_type": "code",
   "execution_count": null,
   "id": "d0d7bb06",
   "metadata": {},
   "outputs": [],
   "source": [
    "# t_train[i], X_train[:,i], control_func(t_train[i])"
   ]
  },
  {
   "cell_type": "code",
   "execution_count": null,
   "id": "62fd5eff",
   "metadata": {},
   "outputs": [],
   "source": [
    "# X[:,:10].T.shape, control_func(t_train[:10]).shape"
   ]
  },
  {
   "cell_type": "code",
   "execution_count": null,
   "id": "66b754b5",
   "metadata": {},
   "outputs": [],
   "source": [
    "# test = torch.cat([X[:,:10].T,control_func(t_train[:10])],dim=-1)"
   ]
  },
  {
   "cell_type": "code",
   "execution_count": null,
   "id": "ab57215f",
   "metadata": {},
   "outputs": [],
   "source": [
    "# test"
   ]
  },
  {
   "cell_type": "code",
   "execution_count": null,
   "id": "4722ee8a",
   "metadata": {},
   "outputs": [],
   "source": [
    "# model.g.network(test)"
   ]
  },
  {
   "cell_type": "code",
   "execution_count": null,
   "id": "097fbae7",
   "metadata": {},
   "outputs": [],
   "source": [
    "# i=1\n",
    "# model(t_train[i:i+1],X_train[:,i],control_func)"
   ]
  },
  {
   "cell_type": "code",
   "execution_count": null,
   "id": "6c5ddd4a",
   "metadata": {},
   "outputs": [],
   "source": [
    "# control_func(t[:10]).shape\n"
   ]
  },
  {
   "cell_type": "code",
   "execution_count": null,
   "id": "958adb03",
   "metadata": {},
   "outputs": [],
   "source": [
    "from stabnode.utils import _load_loop_wrapper\n",
    "\n",
    "decay_rate = 1000\n",
    "dt = t[1:] - t[:-1]\n",
    "dt = torch.cat((dt[0:1],dt,dt[-2:-1]))\n",
    "phi_order = 5\n",
    "def phi_k(i,k):\n",
    "    ti = t[i]\n",
    "    tk = t[k]\n",
    "    return phi(ti,a=tk-decay_rate*dt[k],b=tk+decay_rate*dt[k+1],p=phi_order,q=phi_order)\n",
    "\n",
    "def weak_MSELoss(t,X,model,control_func, phi_order, decay_rate,show_progress=True):\n",
    "    dt = t[1:] - t[:-1]\n",
    "    dt = torch.cat((dt[0:1],dt,dt[-2:-1]))\n",
    "\n",
    "    def phi_k(i,k):\n",
    "        ti = t[i]\n",
    "        tk = t[k]\n",
    "        return phi(ti,a=tk-decay_rate*dt[k],b=tk+decay_rate*dt[k+1],p=phi_order,q=phi_order)\n",
    "\n",
    "    def dphi_k(i,k):\n",
    "        ti=t[i]\n",
    "        tk = t[k]\n",
    "        return dphi(ti,a=tk-decay_rate*dt[k],b=tk+decay_rate*dt[k+1],p=phi_order,q=phi_order)\n",
    "\n",
    "    def integrand(i,k):\n",
    "        xi = X[:,i].T\n",
    "        ti = t[i]\n",
    "        return dphi_k(i,k)*xi.squeeze()+phi_k(i,k)*model(ti,xi, control_func).squeeze()\n",
    "\n",
    "    def trapezoid(k):\n",
    "        indices = torch.arange(len(t))\n",
    "        I = integrand(indices,k)\n",
    "        trap = (dt[1:-1] / 2 ) * (I[:-1]+I[1:])\n",
    "        return trap    \n",
    "\n",
    "    K = len(t)\n",
    "    weak_loss = 0.0\n",
    "    loop_wrapper = _load_loop_wrapper(show_progress)\n",
    "    for k in loop_wrapper(range(K)):\n",
    "        weak_loss += torch.sum(trapezoid(k)**2)\n",
    "    \n",
    "    return weak_loss / K\n"
   ]
  },
  {
   "cell_type": "code",
   "execution_count": null,
   "id": "329db29c",
   "metadata": {},
   "outputs": [],
   "source": [
    "X_scaled.shape"
   ]
  },
  {
   "cell_type": "code",
   "execution_count": null,
   "id": "4c7f7265",
   "metadata": {},
   "outputs": [],
   "source": [
    "fig,(ax1,ax2) = plt.subplots(2,1,figsize=(12,5))\n",
    "k_vals = torch.arange(0,len(t),5000)\n",
    "indices = torch.arange(len(t))\n",
    "\n",
    "ax1.plot(t,X_scaled[0,:],c='black',alpha=0.5,lw=10,zorder=1)\n",
    "ax1.scatter(t_train, X_train,zorder=2,c='red',s=3)\n",
    "ax1.grid(True)\n",
    "k_vals=train_idx\n",
    "for k in k_vals[::50]:\n",
    "    ax2.plot(t,phi_k(indices,k))\n",
    "\n",
    "ax2.set_xlabel(r\"$t$\",size=15)\n",
    "ax2.grid(True)\n",
    "plt.tight_layout(rect=[0,0,1,0.9])\n",
    "plt.suptitle(r\"Uniform Grid Test Functions $\\phi$\", size=20)\n",
    "plt.show()"
   ]
  },
  {
   "cell_type": "code",
   "execution_count": null,
   "id": "b72a6597",
   "metadata": {},
   "outputs": [],
   "source": [
    "# # test loss\n",
    "# print(t_train.shape, X_train.shape)\n",
    "# loss = weak_MSELoss(t_train, X_train, model, control_func, phi_order = 5, decay_rate=1000)\n",
    "# loss"
   ]
  },
  {
   "cell_type": "markdown",
   "id": "e97fb531",
   "metadata": {},
   "source": [
    "# format data"
   ]
  },
  {
   "cell_type": "code",
   "execution_count": null,
   "id": "94458ce4",
   "metadata": {},
   "outputs": [],
   "source": [
    "from stabnode.data import TrajectoryDataset\n",
    "\n",
    "train_dataset = TrajectoryDataset(X_train.T, t_train, window_size=None)\n",
    "len(train_dataset)"
   ]
  },
  {
   "cell_type": "code",
   "execution_count": null,
   "id": "934ad67b",
   "metadata": {},
   "outputs": [],
   "source": [
    "train_loader = torch.utils.data.DataLoader(train_dataset, batch_size=1, shuffle=True, num_workers=0)"
   ]
  },
  {
   "cell_type": "code",
   "execution_count": null,
   "id": "4906a35f",
   "metadata": {},
   "outputs": [],
   "source": [
    "# for out in train_loader:\n",
    "#     xi,ti,_ = out\n",
    "#     loss = weak_MSELoss(ti.squeeze(),xi.squeeze().reshape(1,-1),model,control_func,phi_order=5,decay_rate=1000)\n",
    "#     print(loss)"
   ]
  },
  {
   "cell_type": "code",
   "execution_count": null,
   "id": "e9d810a4",
   "metadata": {},
   "outputs": [],
   "source": [
    "# xi.squeeze().reshape(1,-1)"
   ]
  },
  {
   "cell_type": "markdown",
   "id": "96f09346",
   "metadata": {},
   "source": [
    "### train model"
   ]
  },
  {
   "cell_type": "code",
   "execution_count": null,
   "id": "8a5b8396",
   "metadata": {},
   "outputs": [],
   "source": [
    "import time\n",
    "\n",
    "n_epochs = 30\n",
    "lr = 1e-1\n",
    "show_progress = True\n",
    "phi_order = 5\n",
    "decay_rate=1000\n",
    "opt = torch.optim.Adam(list(f.parameters())+list(g.parameters()), lr = lr)\n",
    "\n",
    "\n",
    "loop_wrapper = _load_loop_wrapper(show_progress)\n",
    "loop_wrapper2 = _load_loop_wrapper(True)\n",
    "\n",
    "model.train()\n",
    "losses = []\n",
    "times = []\n",
    "\n",
    "Xi_epoch_predictions = []\n",
    "Tis_epoch = []\n",
    "for epoch in loop_wrapper(range(n_epochs)):\n",
    "    t1 = time.time()\n",
    "    epoch_loss = 0.0\n",
    "    num_batches = 0\n",
    "    epoch_losses = []\n",
    "\n",
    "    Xi_predictions = []\n",
    "    Tis = []\n",
    "    for Xi, Ti, _ in loop_wrapper2(train_loader):\n",
    "        Xi = Xi.squeeze().reshape(1,-1) # [batch, time, dim]\n",
    "        Ti = Ti.squeeze()\n",
    "\n",
    "        if not Xi.requires_grad:\n",
    "            Xi = Xi.clone().detach().requires_grad_()\n",
    "\n",
    "\n",
    "        opt.zero_grad()\n",
    "        loss = weak_MSELoss(\n",
    "            t=Ti,\n",
    "            X = Xi,\n",
    "            model=model,\n",
    "            control_func=control_func,\n",
    "            phi_order=phi_order,\n",
    "            decay_rate=decay_rate,\n",
    "            show_progress=False\n",
    "        )\n",
    "\n",
    "        loss.backward()\n",
    "        opt.step()\n",
    "        epoch_losses.append(loss.item())\n",
    "        epoch_loss += loss.item()\n",
    "        num_batches += 1\n",
    "\n",
    "    Xi_epoch_predictions.append(Xi_predictions)\n",
    "    Tis_epoch.append(Tis)\n",
    "    avg_loss = epoch_loss / num_batches\n",
    "    losses.append(avg_loss)\n",
    "\n",
    "    t2 = time.time()\n",
    "    times.append(t2 - t1)"
   ]
  },
  {
   "cell_type": "code",
   "execution_count": null,
   "id": "3983cbec",
   "metadata": {},
   "outputs": [],
   "source": [
    "losses"
   ]
  },
  {
   "cell_type": "code",
   "execution_count": null,
   "id": "b863e16b",
   "metadata": {},
   "outputs": [],
   "source": [
    "plt.plot(losses)\n",
    "plt.yscale('log')\n",
    "plt.show()"
   ]
  },
  {
   "cell_type": "markdown",
   "id": "2201db4d",
   "metadata": {},
   "source": [
    "## Look at learned `g` and `f`"
   ]
  },
  {
   "cell_type": "code",
   "execution_count": null,
   "id": "67742533",
   "metadata": {},
   "outputs": [],
   "source": [
    "def f_true(x):\n",
    "    return -1*x**2\n",
    "\n",
    "def g_true(x,lam):\n",
    "    return (1/x)*(lam/x+1)"
   ]
  },
  {
   "cell_type": "code",
   "execution_count": null,
   "id": "c90efde2",
   "metadata": {},
   "outputs": [],
   "source": [
    "g_true_scaled_out = scaler.transform(g_true(X[:,train_idx].squeeze(),lam_train).reshape(-1,1))\n",
    "f_true_scaled_out = f_true(X[:,train_idx].squeeze())"
   ]
  },
  {
   "cell_type": "code",
   "execution_count": null,
   "id": "590a8dac",
   "metadata": {},
   "outputs": [],
   "source": [
    "g = model.g\n",
    "f = model.f\n",
    "g.eval()\n",
    "f.eval()"
   ]
  },
  {
   "cell_type": "code",
   "execution_count": null,
   "id": "063f53d2",
   "metadata": {},
   "outputs": [],
   "source": [
    "X_train.shape, control_func(t_train).shape"
   ]
  },
  {
   "cell_type": "code",
   "execution_count": null,
   "id": "800cef58",
   "metadata": {},
   "outputs": [],
   "source": [
    "with torch.no_grad():\n",
    "    g_out = g(X_train.T, control_func(t_train))\n",
    "    f_out = f(X_train.T)"
   ]
  },
  {
   "cell_type": "code",
   "execution_count": null,
   "id": "6039d89c",
   "metadata": {},
   "outputs": [],
   "source": [
    "fig, (ax1,ax2) = plt.subplots(1,2,figsize=(12,5))\n",
    "ax1.plot(t_train,g_out.squeeze(),linestyle='--',label='gnode')\n",
    "ax1.plot(t_train,g_true_scaled_out,label=\"measurements\")\n",
    "ax1.grid(True)\n",
    "ax1.set_title(r\"$g$ learning\", family='serif')\n",
    "ax1.legend()\n",
    "\n",
    "ax2.plot(t_train,f_out.squeeze(),linestyle='--', label='fnode')\n",
    "ax2.plot(t_train,f_true_scaled_out, label='measurements')\n",
    "ax2.set_title(r\"$f$ Learning\", family='serif')\n",
    "ax2.grid(True)\n",
    "plt.show()"
   ]
  },
  {
   "cell_type": "code",
   "execution_count": null,
   "id": "a54915e4",
   "metadata": {},
   "outputs": [],
   "source": []
  }
 ],
 "metadata": {
  "kernelspec": {
   "display_name": ".venv",
   "language": "python",
   "name": "python3"
  },
  "language_info": {
   "codemirror_mode": {
    "name": "ipython",
    "version": 3
   },
   "file_extension": ".py",
   "mimetype": "text/x-python",
   "name": "python",
   "nbconvert_exporter": "python",
   "pygments_lexer": "ipython3",
   "version": "3.12.11"
  }
 },
 "nbformat": 4,
 "nbformat_minor": 5
}
