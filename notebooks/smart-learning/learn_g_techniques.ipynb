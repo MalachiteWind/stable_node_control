{
 "cells": [
  {
   "cell_type": "markdown",
   "id": "7d521f28",
   "metadata": {},
   "source": [
    "# Iteratively apply g and learn params"
   ]
  },
  {
   "cell_type": "code",
   "execution_count": 1,
   "id": "f2b0ffba",
   "metadata": {},
   "outputs": [],
   "source": [
    "from typing import List\n",
    "import torch\n",
    "import torch.nn as nn\n",
    "from stabnode.node import MLP\n",
    "from stabnode.utils import set_global_seed\n",
    "import numpy as np\n",
    "import matplotlib.pyplot as plt\n",
    "plt.style.use(\"ggplot\")\n",
    "from data.budworm import simulate_trials, budworm_steady_states\n",
    "from sklearn.preprocessing import MinMaxScaler\n",
    "import numpy as np\n",
    "from tqdm.auto import tqdm\n",
    "device='cpu'\n",
    "set_global_seed(1234)"
   ]
  },
  {
   "cell_type": "code",
   "execution_count": 2,
   "id": "68ef1873",
   "metadata": {},
   "outputs": [],
   "source": [
    "k=8.5"
   ]
  },
  {
   "cell_type": "markdown",
   "id": "003d22fa",
   "metadata": {},
   "source": [
    "## Generate data"
   ]
  },
  {
   "cell_type": "code",
   "execution_count": 3,
   "id": "5b4b708c",
   "metadata": {},
   "outputs": [],
   "source": [
    "# x = np.linspace(0,1,101)\n",
    "\n",
    "## Generate more interesting data\n",
    "k = 8.5\n",
    "\n",
    "xs = []\n",
    "ts = []\n",
    "x0s = np.linspace(0.1,10,51)\n",
    "for x0 in x0s:\n",
    "    budworm_trial =simulate_trials([k],x0, dt=0.1,r=0.56,eps=1e-3,buffer=1e-1,t_max=400,n_points=501, show_progress=False)\n",
    "    xs.append(budworm_trial.x_vals[0])\n",
    "    ts.append(budworm_trial.t_vals[0])"
   ]
  },
  {
   "cell_type": "code",
   "execution_count": 4,
   "id": "2c42ede0",
   "metadata": {},
   "outputs": [],
   "source": [
    "scaler = MinMaxScaler()\n",
    "scaler.fit(np.concatenate(xs).reshape(-1,1))\n",
    "\n",
    "xs_scaled = [scaler.transform(xi.reshape(-1,1)).reshape(-1) for xi in xs]"
   ]
  },
  {
   "cell_type": "code",
   "execution_count": 5,
   "id": "e17da1d0",
   "metadata": {},
   "outputs": [],
   "source": [
    "x_steady =budworm_steady_states(k,r=0.56)\n",
    "x_steady_scaled = scaler.transform(np.array(x_steady).reshape(-1,1)).reshape(-1)"
   ]
  },
  {
   "cell_type": "code",
   "execution_count": 6,
   "id": "3e7b0965",
   "metadata": {},
   "outputs": [
    {
     "data": {
      "text/plain": [
       "array([0.08388006, 0.14210819, 0.60229458])"
      ]
     },
     "execution_count": 6,
     "metadata": {},
     "output_type": "execute_result"
    }
   ],
   "source": [
    "x_steady_scaled"
   ]
  },
  {
   "cell_type": "code",
   "execution_count": 7,
   "id": "7c3ef733",
   "metadata": {},
   "outputs": [
    {
     "name": "stdout",
     "output_type": "stream",
     "text": [
      "0: x0 = 0.00, xs = 0.084\n",
      "1: x0 = 0.02, xs = 0.084\n",
      "2: x0 = 0.04, xs = 0.084\n",
      "3: x0 = 0.06, xs = 0.084\n",
      "4: x0 = 0.08, xs = 0.084\n",
      "5: x0 = 0.10, xs = 0.084\n",
      "6: x0 = 0.12, xs = 0.084\n",
      "7: x0 = 0.14, xs = 0.084\n",
      "8: x0 = 0.16, xs = 0.602\n",
      "9: x0 = 0.18, xs = 0.602\n",
      "10: x0 = 0.20, xs = 0.602\n",
      "11: x0 = 0.22, xs = 0.602\n",
      "12: x0 = 0.24, xs = 0.602\n",
      "13: x0 = 0.26, xs = 0.602\n",
      "14: x0 = 0.28, xs = 0.602\n",
      "15: x0 = 0.30, xs = 0.602\n",
      "16: x0 = 0.32, xs = 0.602\n",
      "17: x0 = 0.34, xs = 0.602\n",
      "18: x0 = 0.36, xs = 0.602\n",
      "19: x0 = 0.38, xs = 0.602\n",
      "20: x0 = 0.40, xs = 0.602\n",
      "21: x0 = 0.42, xs = 0.602\n",
      "22: x0 = 0.44, xs = 0.602\n",
      "23: x0 = 0.46, xs = 0.602\n",
      "24: x0 = 0.48, xs = 0.602\n",
      "25: x0 = 0.50, xs = 0.602\n",
      "26: x0 = 0.52, xs = 0.602\n",
      "27: x0 = 0.54, xs = 0.602\n",
      "28: x0 = 0.56, xs = 0.602\n",
      "29: x0 = 0.58, xs = 0.602\n",
      "30: x0 = 0.60, xs = 0.602\n",
      "31: x0 = 0.62, xs = 0.602\n",
      "32: x0 = 0.64, xs = 0.602\n",
      "33: x0 = 0.66, xs = 0.602\n",
      "34: x0 = 0.68, xs = 0.602\n",
      "35: x0 = 0.70, xs = 0.602\n",
      "36: x0 = 0.72, xs = 0.602\n",
      "37: x0 = 0.74, xs = 0.602\n",
      "38: x0 = 0.76, xs = 0.602\n",
      "39: x0 = 0.78, xs = 0.602\n",
      "40: x0 = 0.80, xs = 0.602\n",
      "41: x0 = 0.82, xs = 0.602\n",
      "42: x0 = 0.84, xs = 0.602\n",
      "43: x0 = 0.86, xs = 0.602\n",
      "44: x0 = 0.88, xs = 0.602\n",
      "45: x0 = 0.90, xs = 0.602\n",
      "46: x0 = 0.92, xs = 0.602\n",
      "47: x0 = 0.94, xs = 0.602\n",
      "48: x0 = 0.96, xs = 0.602\n",
      "49: x0 = 0.98, xs = 0.602\n",
      "50: x0 = 1.00, xs = 0.602\n"
     ]
    }
   ],
   "source": [
    "for idx, xi in enumerate(xs_scaled):\n",
    "    print(f\"{idx}: x0 = {xi[0]:.2f}, xs = {xi[-1]:.3f}\")"
   ]
  },
  {
   "cell_type": "code",
   "execution_count": 8,
   "id": "23c2fc2d",
   "metadata": {},
   "outputs": [],
   "source": [
    "class AsymDataset(torch.utils.data.Dataset):\n",
    "    def __init__(self, x_trials:List, k_vals: List):\n",
    "        self.x_trials = x_trials     \n",
    "        self.k_vals = k_vals                  \n",
    "\n",
    "    def __len__(self):\n",
    "        return len(self.x_trials) \n",
    "\n",
    "    def __getitem__(self, idx):\n",
    "        if idx < 0 or idx >= self.__len__():\n",
    "            raise IndexError(\n",
    "                f\"Index {idx} is out of bounds of dataset size: {self.__len__()}.\"\n",
    "            )\n",
    "        \n",
    "        \n",
    "        Xi = self.x_trials[idx]   \n",
    "        ki = self.k_vals[idx]                                       \n",
    "        x0 = Xi[0]\n",
    "        x_asym = Xi[-1]\n",
    "        return x0, x_asym, ki"
   ]
  },
  {
   "cell_type": "code",
   "execution_count": 9,
   "id": "b044d17d",
   "metadata": {},
   "outputs": [],
   "source": [
    "xs_torch = [torch.tensor(\n",
    "    xi, dtype=torch.float32,device=device\n",
    ") for xi in xs_scaled]\n",
    "\n",
    "ks_torch = [\n",
    "    torch.tensor(\n",
    "        k, dtype=torch.float32,device=device\n",
    "    ) for _ in xs_scaled\n",
    "]\n",
    "\n"
   ]
  },
  {
   "cell_type": "code",
   "execution_count": 10,
   "id": "89841446",
   "metadata": {},
   "outputs": [],
   "source": [
    "dataset = AsymDataset(xs_torch, ks_torch)\n",
    "loader = torch.utils.data.DataLoader(\n",
    "    dataset, shuffle=False, batch_size=1, num_workers=0\n",
    ")"
   ]
  },
  {
   "cell_type": "markdown",
   "id": "776af5d6",
   "metadata": {},
   "source": [
    "## Define $g$"
   ]
  },
  {
   "cell_type": "code",
   "execution_count": 11,
   "id": "02e0abc3",
   "metadata": {},
   "outputs": [],
   "source": [
    "from stabnode.node import GeluSigmoidMLPfeaturized"
   ]
  },
  {
   "cell_type": "code",
   "execution_count": 18,
   "id": "2a18945e",
   "metadata": {},
   "outputs": [],
   "source": [
    "from data.budworm import g_true, f_true\n",
    "\n",
    "x_lin = np.linspace(0,1,101)\n",
    "x_lin_unscaled = scaler.inverse_transform(x_lin.reshape(-1,1)).squeeze()\n",
    "x_lin_torch = torch.tensor(x_lin, dtype=torch.float32)\n",
    "\n",
    "\n",
    "f_true_arr =  f_true(x_lin_unscaled)\n",
    "g_true_arr = scaler.transform(g_true(x_lin_unscaled, k, r=0.56).reshape(-1,1)).squeeze()"
   ]
  },
  {
   "cell_type": "code",
   "execution_count": 13,
   "id": "eecde6a9",
   "metadata": {},
   "outputs": [],
   "source": [
    "g = GeluSigmoidMLPfeaturized(\n",
    "    dims = [5,10,10,1], \n",
    "    activation = torch.nn.SiLU(), \n",
    "    lower_bound = g_true_arr.min(), \n",
    "    upper_bound = g_true_arr.max(), \n",
    "    freq_sample_step = 1,\n",
    "    feat_lower_bound=0,\n",
    "    feat_upper_bound=1\n",
    "    )"
   ]
  },
  {
   "cell_type": "code",
   "execution_count": 14,
   "id": "06b9de63",
   "metadata": {},
   "outputs": [
    {
     "data": {
      "application/vnd.jupyter.widget-view+json": {
       "model_id": "dd363c1e20244acc8b7c1ddb6fe05b6b",
       "version_major": 2,
       "version_minor": 0
      },
      "text/plain": [
       "  0%|          | 0/100 [00:00<?, ?it/s]"
      ]
     },
     "metadata": {},
     "output_type": "display_data"
    },
    {
     "name": "stdout",
     "output_type": "stream",
     "text": [
      "Epoch 0, Loss: 2.435146e-02\n",
      "Epoch 10, Loss: 4.262079e-02\n",
      "Epoch 20, Loss: 4.208210e-02\n",
      "Epoch 30, Loss: 3.809964e-02\n",
      "Epoch 40, Loss: 3.837158e-02\n",
      "Epoch 50, Loss: 3.876836e-02\n",
      "Epoch 60, Loss: 3.766498e-02\n",
      "Epoch 70, Loss: 1.689941e-01\n",
      "Epoch 80, Loss: 1.689941e-01\n",
      "Epoch 90, Loss: 1.689941e-01\n"
     ]
    }
   ],
   "source": [
    "iteration  = 100\n",
    "lr = 1e-2\n",
    "opt = torch.optim.Adam(g.parameters(), lr=lr)\n",
    "loss_criteria = nn.MSELoss()\n",
    "n_epochs = 100\n",
    "\n",
    "g.train()\n",
    "\n",
    "losses = []\n",
    "for epoch in tqdm(range(n_epochs)):\n",
    "    epoch_loss = 0.0\n",
    "    batch_count = 0\n",
    "    \n",
    "    for x0, x1, ki in loader:\n",
    "        opt.zero_grad()\n",
    "        x = x0.detach()  # don't backprop into x0\n",
    "        for _ in range(iteration):\n",
    "            x = g(x, ki)\n",
    "        loss = loss_criteria(x, x1)\n",
    "        loss.backward()\n",
    "        opt.step()\n",
    "        \n",
    "        epoch_loss += loss.item()\n",
    "        batch_count += 1\n",
    "\n",
    "    # average over number of batches\n",
    "    epoch_loss /= batch_count\n",
    "    losses.append(epoch_loss)\n",
    "    if epoch % 10 == 0:\n",
    "        print(f\"Epoch {epoch}, Loss: {epoch_loss:.6e}\")\n"
   ]
  },
  {
   "cell_type": "code",
   "execution_count": 15,
   "id": "3ea0c14f",
   "metadata": {},
   "outputs": [
    {
     "data": {
      "image/png": "[encoded data removed]",
      "text/plain": [
       "<Figure size 640x480 with 1 Axes>"
      ]
     },
     "metadata": {},
     "output_type": "display_data"
    }
   ],
   "source": [
    "plt.plot(losses)\n",
    "plt.yscale('log')"
   ]
  },
  {
   "cell_type": "markdown",
   "id": "98dd0785",
   "metadata": {},
   "source": [
    "# Plot method"
   ]
  },
  {
   "cell_type": "code",
   "execution_count": 19,
   "id": "95450559",
   "metadata": {},
   "outputs": [],
   "source": [
    "g_eval = g.eval()\n",
    "\n",
    "with torch.no_grad():\n",
    "    \n",
    "    k_torch = torch.tensor(k,dtype=torch.float32).reshape(-1,1)\n",
    "    g_pred =torch.cat([g_eval(torch.tensor([[xi]],dtype=torch.float32),k_torch).reshape(-1) for xi in x_lin_torch])\n",
    "    # ax1.plot(x_lin_torch, g_pred, label=rf'$\\alpha$={alpha}', linestyle='--', alpha=1, lw=3)"
   ]
  },
  {
   "cell_type": "code",
   "execution_count": 21,
   "id": "add6113c",
   "metadata": {},
   "outputs": [
    {
     "data": {
      "text/plain": [
       "[<matplotlib.lines.Line2D at 0x196668620>]"
      ]
     },
     "execution_count": 21,
     "metadata": {},
     "output_type": "execute_result"
    },
    {
     "data": {
      "image/png": "[encoded data removed]",
      "text/plain": [
       "<Figure size 640x480 with 1 Axes>"
      ]
     },
     "metadata": {},
     "output_type": "display_data"
    }
   ],
   "source": [
    "plt.plot(x_lin, g_true_arr)\n",
    "plt.plot(x_lin, g_pred)\n",
    "plt.plot(x_lin,x_lin)"
   ]
  },
  {
   "cell_type": "code",
   "execution_count": null,
   "id": "7171c422",
   "metadata": {},
   "outputs": [],
   "source": []
  }
 ],
 "metadata": {
  "kernelspec": {
   "display_name": ".venv",
   "language": "python",
   "name": "python3"
  },
  "language_info": {
   "codemirror_mode": {
    "name": "ipython",
    "version": 3
   },
   "file_extension": ".py",
   "mimetype": "text/x-python",
   "name": "python",
   "nbconvert_exporter": "python",
   "pygments_lexer": "ipython3",
   "version": "3.12.11"
  }
 },
 "nbformat": 4,
 "nbformat_minor": 5
}
