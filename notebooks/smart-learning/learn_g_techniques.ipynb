{
 "cells": [
  {
   "cell_type": "markdown",
   "id": "7d521f28",
   "metadata": {},
   "source": [
    "# Iteratively apply g and learn params"
   ]
  },
  {
   "cell_type": "code",
   "execution_count": 50,
   "id": "f2b0ffba",
   "metadata": {},
   "outputs": [],
   "source": [
    "from typing import List\n",
    "import torch\n",
    "import torch.nn as nn\n",
    "from stabnode.node import MLP\n",
    "from stabnode.utils import set_global_seed\n",
    "import numpy as np\n",
    "import matplotlib.pyplot as plt\n",
    "plt.style.use(\"ggplot\")\n",
    "from data.budworm import simulate_trials, budworm_steady_states\n",
    "from sklearn.preprocessing import MinMaxScaler\n",
    "import numpy as np\n",
    "from tqdm.auto import tqdm\n",
    "device='cpu'\n",
    "set_global_seed(1234)"
   ]
  },
  {
   "cell_type": "code",
   "execution_count": 51,
   "id": "68ef1873",
   "metadata": {},
   "outputs": [],
   "source": [
    "k=8.5"
   ]
  },
  {
   "cell_type": "markdown",
   "id": "003d22fa",
   "metadata": {},
   "source": [
    "## Generate data"
   ]
  },
  {
   "cell_type": "code",
   "execution_count": 52,
   "id": "5b4b708c",
   "metadata": {},
   "outputs": [],
   "source": [
    "# x = np.linspace(0,1,101)\n",
    "\n",
    "## Generate more interesting data\n",
    "k = 8.5\n",
    "\n",
    "xs = []\n",
    "ts = []\n",
    "x0s = np.linspace(0.1,10,51)\n",
    "for x0 in x0s:\n",
    "    budworm_trial =simulate_trials([k],x0, dt=0.1,r=0.56,eps=1e-3,buffer=1e-1,t_max=400,n_points=501, show_progress=False)\n",
    "    xs.append(budworm_trial.x_vals[0])\n",
    "    ts.append(budworm_trial.t_vals[0])"
   ]
  },
  {
   "cell_type": "code",
   "execution_count": 53,
   "id": "2c42ede0",
   "metadata": {},
   "outputs": [],
   "source": [
    "scaler = MinMaxScaler()\n",
    "scaler.fit(np.concatenate(xs).reshape(-1,1))\n",
    "\n",
    "xs_scaled = [scaler.transform(xi.reshape(-1,1)).reshape(-1) for xi in xs]"
   ]
  },
  {
   "cell_type": "code",
   "execution_count": 54,
   "id": "e17da1d0",
   "metadata": {},
   "outputs": [],
   "source": [
    "x_steady =budworm_steady_states(k,r=0.56)\n",
    "x_steady_scaled = scaler.transform(np.array(x_steady).reshape(-1,1)).reshape(-1)"
   ]
  },
  {
   "cell_type": "code",
   "execution_count": 55,
   "id": "3e7b0965",
   "metadata": {},
   "outputs": [
    {
     "data": {
      "text/plain": [
       "array([0.08388006, 0.14210819, 0.60229458])"
      ]
     },
     "execution_count": 55,
     "metadata": {},
     "output_type": "execute_result"
    }
   ],
   "source": [
    "x_steady_scaled"
   ]
  },
  {
   "cell_type": "code",
   "execution_count": 56,
   "id": "7c3ef733",
   "metadata": {},
   "outputs": [
    {
     "name": "stdout",
     "output_type": "stream",
     "text": [
      "0: x0 = 0.00, xs = 0.084\n",
      "1: x0 = 0.02, xs = 0.084\n",
      "2: x0 = 0.04, xs = 0.084\n",
      "3: x0 = 0.06, xs = 0.084\n",
      "4: x0 = 0.08, xs = 0.084\n",
      "5: x0 = 0.10, xs = 0.084\n",
      "6: x0 = 0.12, xs = 0.084\n",
      "7: x0 = 0.14, xs = 0.084\n",
      "8: x0 = 0.16, xs = 0.602\n",
      "9: x0 = 0.18, xs = 0.602\n",
      "10: x0 = 0.20, xs = 0.602\n",
      "11: x0 = 0.22, xs = 0.602\n",
      "12: x0 = 0.24, xs = 0.602\n",
      "13: x0 = 0.26, xs = 0.602\n",
      "14: x0 = 0.28, xs = 0.602\n",
      "15: x0 = 0.30, xs = 0.602\n",
      "16: x0 = 0.32, xs = 0.602\n",
      "17: x0 = 0.34, xs = 0.602\n",
      "18: x0 = 0.36, xs = 0.602\n",
      "19: x0 = 0.38, xs = 0.602\n",
      "20: x0 = 0.40, xs = 0.602\n",
      "21: x0 = 0.42, xs = 0.602\n",
      "22: x0 = 0.44, xs = 0.602\n",
      "23: x0 = 0.46, xs = 0.602\n",
      "24: x0 = 0.48, xs = 0.602\n",
      "25: x0 = 0.50, xs = 0.602\n",
      "26: x0 = 0.52, xs = 0.602\n",
      "27: x0 = 0.54, xs = 0.602\n",
      "28: x0 = 0.56, xs = 0.602\n",
      "29: x0 = 0.58, xs = 0.602\n",
      "30: x0 = 0.60, xs = 0.602\n",
      "31: x0 = 0.62, xs = 0.602\n",
      "32: x0 = 0.64, xs = 0.602\n",
      "33: x0 = 0.66, xs = 0.602\n",
      "34: x0 = 0.68, xs = 0.602\n",
      "35: x0 = 0.70, xs = 0.602\n",
      "36: x0 = 0.72, xs = 0.602\n",
      "37: x0 = 0.74, xs = 0.602\n",
      "38: x0 = 0.76, xs = 0.602\n",
      "39: x0 = 0.78, xs = 0.602\n",
      "40: x0 = 0.80, xs = 0.602\n",
      "41: x0 = 0.82, xs = 0.602\n",
      "42: x0 = 0.84, xs = 0.602\n",
      "43: x0 = 0.86, xs = 0.602\n",
      "44: x0 = 0.88, xs = 0.602\n",
      "45: x0 = 0.90, xs = 0.602\n",
      "46: x0 = 0.92, xs = 0.602\n",
      "47: x0 = 0.94, xs = 0.602\n",
      "48: x0 = 0.96, xs = 0.602\n",
      "49: x0 = 0.98, xs = 0.602\n",
      "50: x0 = 1.00, xs = 0.602\n"
     ]
    }
   ],
   "source": [
    "for idx, xi in enumerate(xs_scaled):\n",
    "    print(f\"{idx}: x0 = {xi[0]:.2f}, xs = {xi[-1]:.3f}\")"
   ]
  },
  {
   "cell_type": "code",
   "execution_count": 57,
   "id": "23c2fc2d",
   "metadata": {},
   "outputs": [],
   "source": [
    "class AsymDataset(torch.utils.data.Dataset):\n",
    "    def __init__(self, x_trials:List, k_vals: List):\n",
    "        self.x_trials = x_trials     \n",
    "        self.k_vals = k_vals                  \n",
    "\n",
    "    def __len__(self):\n",
    "        return len(self.x_trials) \n",
    "\n",
    "    def __getitem__(self, idx):\n",
    "        if idx < 0 or idx >= self.__len__():\n",
    "            raise IndexError(\n",
    "                f\"Index {idx} is out of bounds of dataset size: {self.__len__()}.\"\n",
    "            )\n",
    "        \n",
    "        \n",
    "        Xi = self.x_trials[idx]   \n",
    "        ki = self.k_vals[idx]                                       \n",
    "        x0 = Xi[0]\n",
    "        x_asym = Xi[-1]\n",
    "        return x0, x_asym, ki"
   ]
  },
  {
   "cell_type": "code",
   "execution_count": 9,
   "id": "b044d17d",
   "metadata": {},
   "outputs": [],
   "source": [
    "xs_torch = [torch.tensor(\n",
    "    xi, dtype=torch.float32,device=device\n",
    ") for xi in xs_scaled]\n",
    "\n",
    "ks_torch = [\n",
    "    torch.tensor(\n",
    "        k, dtype=torch.float32,device=device\n",
    "    ) for _ in xs_scaled\n",
    "]\n",
    "\n"
   ]
  },
  {
   "cell_type": "code",
   "execution_count": 10,
   "id": "89841446",
   "metadata": {},
   "outputs": [],
   "source": [
    "dataset = AsymDataset(xs_torch, ks_torch)\n",
    "loader = torch.utils.data.DataLoader(\n",
    "    dataset, shuffle=False, batch_size=1, num_workers=0\n",
    ")"
   ]
  },
  {
   "cell_type": "markdown",
   "id": "776af5d6",
   "metadata": {},
   "source": [
    "## Define $g$"
   ]
  },
  {
   "cell_type": "code",
   "execution_count": 34,
   "id": "02e0abc3",
   "metadata": {},
   "outputs": [],
   "source": [
    "from stabnode.node import GeluSigmoidMLPfeaturized"
   ]
  },
  {
   "cell_type": "code",
   "execution_count": 35,
   "id": "2a18945e",
   "metadata": {},
   "outputs": [],
   "source": [
    "from data.budworm import g_true, f_true\n",
    "\n",
    "x_lin = np.linspace(0,1,101)\n",
    "x_lin_unscaled = scaler.inverse_transform(x_lin.reshape(-1,1)).squeeze()\n",
    "x_lin_torch = torch.tensor(x_lin, dtype=torch.float32)\n",
    "\n",
    "\n",
    "f_true_arr =  f_true(x_lin_unscaled)\n",
    "g_true_arr = scaler.transform(g_true(x_lin_unscaled, k, r=0.56).reshape(-1,1)).squeeze()"
   ]
  },
  {
   "cell_type": "code",
   "execution_count": 36,
   "id": "eecde6a9",
   "metadata": {},
   "outputs": [],
   "source": [
    "g = GeluSigmoidMLPfeaturized(\n",
    "    dims = [5,10,10,1], \n",
    "    activation = torch.nn.SiLU(), \n",
    "    lower_bound = g_true_arr.min(), \n",
    "    upper_bound = g_true_arr.max(), \n",
    "    freq_sample_step = 1,\n",
    "    feat_lower_bound=0,\n",
    "    feat_upper_bound=1\n",
    "    )"
   ]
  },
  {
   "cell_type": "code",
   "execution_count": 14,
   "id": "06b9de63",
   "metadata": {},
   "outputs": [
    {
     "data": {
      "application/vnd.jupyter.widget-view+json": {
       "model_id": "dd363c1e20244acc8b7c1ddb6fe05b6b",
       "version_major": 2,
       "version_minor": 0
      },
      "text/plain": [
       "  0%|          | 0/100 [00:00<?, ?it/s]"
      ]
     },
     "metadata": {},
     "output_type": "display_data"
    },
    {
     "name": "stdout",
     "output_type": "stream",
     "text": [
      "Epoch 0, Loss: 2.435146e-02\n",
      "Epoch 10, Loss: 4.262079e-02\n",
      "Epoch 20, Loss: 4.208210e-02\n",
      "Epoch 30, Loss: 3.809964e-02\n",
      "Epoch 40, Loss: 3.837158e-02\n",
      "Epoch 50, Loss: 3.876836e-02\n",
      "Epoch 60, Loss: 3.766498e-02\n",
      "Epoch 70, Loss: 1.689941e-01\n",
      "Epoch 80, Loss: 1.689941e-01\n",
      "Epoch 90, Loss: 1.689941e-01\n"
     ]
    }
   ],
   "source": [
    "iteration  = 100\n",
    "lr = 1e-2\n",
    "opt = torch.optim.Adam(g.parameters(), lr=lr)\n",
    "loss_criteria = nn.MSELoss()\n",
    "n_epochs = 100\n",
    "\n",
    "g.train()\n",
    "\n",
    "losses = []\n",
    "for epoch in tqdm(range(n_epochs)):\n",
    "    epoch_loss = 0.0\n",
    "    batch_count = 0\n",
    "    \n",
    "    for x0, x1, ki in loader:\n",
    "        opt.zero_grad()\n",
    "        x = x0.detach()  # don't backprop into x0\n",
    "        for _ in range(iteration):\n",
    "            x = g(x, ki)\n",
    "        loss = loss_criteria(x, x1)\n",
    "        loss.backward()\n",
    "        opt.step()\n",
    "        \n",
    "        epoch_loss += loss.item()\n",
    "        batch_count += 1\n",
    "\n",
    "    # average over number of batches\n",
    "    epoch_loss /= batch_count\n",
    "    losses.append(epoch_loss)\n",
    "    if epoch % 10 == 0:\n",
    "        print(f\"Epoch {epoch}, Loss: {epoch_loss:.6e}\")\n"
   ]
  },
  {
   "cell_type": "code",
   "execution_count": 15,
   "id": "3ea0c14f",
   "metadata": {},
   "outputs": [
    {
     "data": {
      "image/png": "[encoded data removed]",
      "text/plain": [
       "<Figure size 640x480 with 1 Axes>"
      ]
     },
     "metadata": {},
     "output_type": "display_data"
    }
   ],
   "source": [
    "plt.plot(losses)\n",
    "plt.yscale('log')"
   ]
  },
  {
   "cell_type": "markdown",
   "id": "98dd0785",
   "metadata": {},
   "source": [
    "# Plot method"
   ]
  },
  {
   "cell_type": "code",
   "execution_count": 58,
   "id": "95450559",
   "metadata": {},
   "outputs": [],
   "source": [
    "g_eval = g.eval()\n",
    "\n",
    "with torch.no_grad():\n",
    "    \n",
    "    k_torch = torch.tensor(k,dtype=torch.float32).reshape(-1,1)\n",
    "    g_pred =torch.cat([g_eval(torch.tensor([[xi]],dtype=torch.float32),k_torch).reshape(-1) for xi in x_lin_torch])\n",
    "    # ax1.plot(x_lin_torch, g_pred, label=rf'$\\alpha$={alpha}', linestyle='--', alpha=1, lw=3)"
   ]
  },
  {
   "cell_type": "code",
   "execution_count": 21,
   "id": "add6113c",
   "metadata": {},
   "outputs": [
    {
     "data": {
      "text/plain": [
       "[<matplotlib.lines.Line2D at 0x196668620>]"
      ]
     },
     "execution_count": 21,
     "metadata": {},
     "output_type": "execute_result"
    },
    {
     "data": {
      "image/png": "[encoded data removed]",
      "text/plain": [
       "<Figure size 640x480 with 1 Axes>"
      ]
     },
     "metadata": {},
     "output_type": "display_data"
    }
   ],
   "source": [
    "plt.plot(x_lin, g_true_arr)\n",
    "plt.plot(x_lin, g_pred)\n",
    "plt.plot(x_lin,x_lin)"
   ]
  },
  {
   "cell_type": "markdown",
   "id": "6368f5da",
   "metadata": {},
   "source": [
    "## More Trials"
   ]
  },
  {
   "cell_type": "code",
   "execution_count": 59,
   "id": "7171c422",
   "metadata": {},
   "outputs": [
    {
     "name": "stdout",
     "output_type": "stream",
     "text": [
      "6.44569072482332 9.93441120446710\n"
     ]
    },
    {
     "data": {
      "application/vnd.jupyter.widget-view+json": {
       "model_id": "240983558cb641bcb68d882ad05d3c19",
       "version_major": 2,
       "version_minor": 0
      },
      "text/plain": [
       "  0%|          | 0/20 [00:00<?, ?it/s]"
      ]
     },
     "metadata": {},
     "output_type": "display_data"
    }
   ],
   "source": [
    "import pandas as pd\n",
    "from sympy import symbols, Eq, solve, simplify\n",
    "from stabnode.utils import set_global_seed\n",
    "import numpy as np\n",
    "from data.budworm import simulate_trials\n",
    "from sklearn.preprocessing import MinMaxScaler\n",
    "from tqdm.auto import tqdm\n",
    "import torch\n",
    "\n",
    "r, k = symbols('r k', positive=True)\n",
    "a = r/k\n",
    "b = -r\n",
    "c = (k+r)/k\n",
    "d = -r\n",
    "p = (3*a*c-b**2) / (3*a**2)\n",
    "q = (2*b**3 - 9*a*b*c+27*a**2*d) / (27*a**3)\n",
    "\n",
    "D = - (4*p**3 + 27*q**2)\n",
    "D = simplify(D)\n",
    "\n",
    "\n",
    "D_fixed = D.subs(r, 0.56)\n",
    "r1, r2 = solve(Eq(D_fixed, 0), k)\n",
    "print(r1,r2)\n",
    "\n",
    "k1 = r1-1.1\n",
    "k2 = r2+1.1\n",
    "\n",
    "def smooth_k(t):\n",
    "    A = (k2-k1)/2\n",
    "    return A*np.sin(t-np.pi/2)+A + k1\n",
    "\n",
    "# =====================================================================\n",
    "# MAIN PIPELINE\n",
    "# =====================================================================\n",
    "\n",
    "# -----------------------------------------------------------------\n",
    "# CONFIGURATION\n",
    "# -----------------------------------------------------------------\n",
    "device = \"cpu\"\n",
    "set_global_seed(1234)\n",
    "\n",
    "# Simulation parameters\n",
    "sample_rate = 13\n",
    "t_span = np.linspace(0,2/2*np.pi,251)\n",
    "t_trials = t_span[::sample_rate]\n",
    "k_vals = smooth_k(t_trials)\n",
    "traj_per_k = 25\n",
    "\n",
    "xs = np.linspace(0.1, 10, traj_per_k)\n",
    "\n",
    "# -----------------------------------------------------------------\n",
    "# DATA GENERATION\n",
    "# -----------------------------------------------------------------\n",
    "trials = {}\n",
    "for idx, ki in enumerate(tqdm(k_vals)):\n",
    "    ki_traj, ki_times = [], []\n",
    "\n",
    "    for x0 in xs:\n",
    "        trial = simulate_trials(\n",
    "            [ki],\n",
    "            x0,\n",
    "            dt=0.2,\n",
    "            r=0.56,\n",
    "            eps=1e-3,\n",
    "            buffer=1e-1,\n",
    "            t_max=400,\n",
    "            n_points=501,\n",
    "            show_progress=False,\n",
    "        )\n",
    "        if len(trial.t_vals[0]) == 1:\n",
    "            continue\n",
    "        ki_traj.append(trial.x_vals[0])\n",
    "        ki_times.append(trial.t_vals[0])\n",
    "\n",
    "    trials[str(idx)] = {\n",
    "        \"traj\": ki_traj,\n",
    "        \"times\": ki_times,\n",
    "        \"k\": ki,\n",
    "        \"trial\": idx,\n",
    "    }\n",
    "\n",
    "trial_df = pd.DataFrame(trials)\n",
    "\n",
    "# -----------------------------------------------------------------\n",
    "# SCALING\n",
    "# -----------------------------------------------------------------\n",
    "full_traj = [np.concatenate(trial_df[col].traj) for col in trial_df.columns]\n",
    "scaler = MinMaxScaler()\n",
    "scaler.fit(np.concatenate(full_traj).reshape(-1, 1))\n",
    "\n",
    "scaled_rows = {}\n",
    "for col in trial_df.columns:\n",
    "    traj = trial_df[col].traj\n",
    "    scaled_rows[col] = [\n",
    "        scaler.transform(xi.reshape(-1, 1)).reshape(-1) for xi in traj\n",
    "    ]\n",
    "trial_df.loc[\"scaled_traj\"] = pd.Series(scaled_rows)\n",
    "\n",
    "# -----------------------------------------------------------------\n",
    "# TORCH DATASET PREP\n",
    "# -----------------------------------------------------------------\n",
    "all_xs, all_ts, all_ks = [], [], []\n",
    "\n",
    "for trial_i in trial_df.columns:\n",
    "    xs_scaled = trial_df[trial_i].scaled_traj\n",
    "    ts = trial_df[trial_i].times\n",
    "    k = trial_df[trial_i].k\n",
    "\n",
    "    xs_torch = [\n",
    "        torch.tensor(xi, dtype=torch.float32, device=device) for xi in xs_scaled\n",
    "    ]\n",
    "    ts_torch = [\n",
    "        torch.tensor(ti, dtype=torch.float32, device=device) for ti in ts\n",
    "    ]\n",
    "    ks = [torch.tensor(k, dtype=torch.float32, device=device) for _ in ts]\n",
    "\n",
    "    all_xs.extend(xs_torch)\n",
    "    all_ts.extend(ts_torch)\n",
    "    all_ks.extend(ks)\n",
    "\n",
    "# train_dataset = TrialsDataset(all_xs, all_ts, all_ks)\n",
    "# train_loader = torch.utils.data.DataLoader(\n",
    "#     train_dataset, shuffle=True, batch_size=1, num_workers=0\n",
    "# )"
   ]
  },
  {
   "cell_type": "code",
   "execution_count": 66,
   "id": "af995c08",
   "metadata": {},
   "outputs": [],
   "source": [
    "dataset= AsymDataset(all_xs, all_ks)\n",
    "loader = torch.utils.data.DataLoader(\n",
    "    dataset, shuffle=False, batch_size=1, num_workers=0\n",
    ")"
   ]
  },
  {
   "cell_type": "code",
   "execution_count": 67,
   "id": "3e36d6ac",
   "metadata": {},
   "outputs": [],
   "source": [
    "g = GeluSigmoidMLPfeaturized(\n",
    "    dims = [5,10,10,1], \n",
    "    activation = torch.nn.SiLU(), \n",
    "    lower_bound = g_true_arr.min(), \n",
    "    upper_bound = g_true_arr.max(), \n",
    "    freq_sample_step = 1,\n",
    "    feat_lower_bound=0,\n",
    "    feat_upper_bound=1\n",
    "    )"
   ]
  },
  {
   "cell_type": "code",
   "execution_count": 68,
   "id": "084dbc89",
   "metadata": {},
   "outputs": [
    {
     "data": {
      "application/vnd.jupyter.widget-view+json": {
       "model_id": "1d6eb59c30c94e9b8f8cca37b3b9da56",
       "version_major": 2,
       "version_minor": 0
      },
      "text/plain": [
       "  0%|          | 0/500 [00:00<?, ?it/s]"
      ]
     },
     "metadata": {},
     "output_type": "display_data"
    },
    {
     "name": "stdout",
     "output_type": "stream",
     "text": [
      "Epoch 0, Loss: 3.541740e-02, GradNorm: 3.887e-03, LR: 1.000e-02\n",
      "Epoch 1, Loss: 5.809076e-02, GradNorm: 2.503e-04, LR: 1.000e-02\n",
      "Epoch 2, Loss: 1.094115e-01, GradNorm: 1.324e-02, LR: 1.000e-02\n",
      "Epoch 3, Loss: 5.148440e-02, GradNorm: 1.024e-02, LR: 1.000e-02\n",
      "Epoch 4, Loss: 4.746569e-02, GradNorm: 7.969e-03, LR: 1.000e-02\n",
      "Epoch 10, Loss: 7.010396e-02, GradNorm: 6.548e-03, LR: 1.000e-02\n",
      "Epoch 20, Loss: 7.140747e-02, GradNorm: 1.789e-02, LR: 5.000e-03\n",
      "Epoch 30, Loss: 1.289632e-01, GradNorm: 2.757e-01, LR: 2.500e-03\n",
      "Epoch 40, Loss: 7.950438e-02, GradNorm: 2.653e-01, LR: 1.250e-03\n",
      "Epoch 50, Loss: 2.834692e-02, GradNorm: 5.239e-02, LR: 1.250e-03\n",
      "Epoch 60, Loss: 2.833365e-02, GradNorm: 2.780e-02, LR: 1.250e-03\n",
      "Epoch 70, Loss: 2.514300e-02, GradNorm: 2.386e-02, LR: 1.250e-03\n",
      "Epoch 80, Loss: 5.256846e-02, GradNorm: 3.544e-02, LR: 1.250e-03\n",
      "Epoch 90, Loss: 3.257463e-02, GradNorm: 1.432e-02, LR: 6.250e-04\n",
      "Epoch 100, Loss: 2.237467e-02, GradNorm: 1.503e-02, LR: 6.250e-04\n",
      "Epoch 110, Loss: 1.072932e-01, GradNorm: 6.042e-01, LR: 3.125e-04\n",
      "Epoch 120, Loss: 7.506435e-02, GradNorm: 8.705e-02, LR: 1.563e-04\n",
      "Epoch 130, Loss: 7.236028e-02, GradNorm: 5.860e-02, LR: 7.813e-05\n",
      "Epoch 140, Loss: 7.092178e-02, GradNorm: 5.574e-02, LR: 3.906e-05\n",
      "Epoch 150, Loss: 7.074139e-02, GradNorm: 5.583e-02, LR: 3.906e-05\n",
      "Epoch 160, Loss: 7.067023e-02, GradNorm: 5.606e-02, LR: 1.953e-05\n",
      "Epoch 170, Loss: 7.063629e-02, GradNorm: 5.613e-02, LR: 9.766e-06\n",
      "Epoch 180, Loss: 7.061949e-02, GradNorm: 5.615e-02, LR: 4.883e-06\n",
      "Epoch 190, Loss: 7.061105e-02, GradNorm: 5.615e-02, LR: 2.441e-06\n",
      "Epoch 200, Loss: 7.060678e-02, GradNorm: 5.616e-02, LR: 1.221e-06\n",
      "Epoch 210, Loss: 7.060467e-02, GradNorm: 5.616e-02, LR: 6.104e-07\n",
      "Epoch 220, Loss: 7.060359e-02, GradNorm: 5.617e-02, LR: 3.052e-07\n",
      "Epoch 230, Loss: 7.060301e-02, GradNorm: 5.617e-02, LR: 1.526e-07\n",
      "Epoch 240, Loss: 7.060270e-02, GradNorm: 5.619e-02, LR: 7.629e-08\n",
      "Epoch 250, Loss: 7.060264e-02, GradNorm: 5.621e-02, LR: 3.815e-08\n",
      "Epoch 260, Loss: 7.060249e-02, GradNorm: 5.623e-02, LR: 3.815e-08\n",
      "Epoch 270, Loss: 7.060242e-02, GradNorm: 5.624e-02, LR: 1.907e-08\n",
      "Epoch 280, Loss: 7.060241e-02, GradNorm: 5.625e-02, LR: 1.907e-08\n",
      "Epoch 290, Loss: 7.060240e-02, GradNorm: 5.625e-02, LR: 1.907e-08\n",
      "Epoch 300, Loss: 7.060239e-02, GradNorm: 5.626e-02, LR: 1.907e-08\n",
      "Epoch 310, Loss: 7.060238e-02, GradNorm: 5.627e-02, LR: 1.907e-08\n",
      "Epoch 320, Loss: 7.060237e-02, GradNorm: 5.628e-02, LR: 1.907e-08\n",
      "Epoch 330, Loss: 7.060238e-02, GradNorm: 5.629e-02, LR: 1.907e-08\n",
      "Epoch 340, Loss: 7.060238e-02, GradNorm: 5.630e-02, LR: 1.907e-08\n",
      "Epoch 350, Loss: 7.060237e-02, GradNorm: 5.630e-02, LR: 1.907e-08\n",
      "Epoch 360, Loss: 7.060237e-02, GradNorm: 5.631e-02, LR: 1.907e-08\n",
      "Epoch 370, Loss: 7.060236e-02, GradNorm: 5.632e-02, LR: 1.907e-08\n",
      "Epoch 380, Loss: 7.060238e-02, GradNorm: 5.632e-02, LR: 1.907e-08\n",
      "Epoch 390, Loss: 7.060236e-02, GradNorm: 5.633e-02, LR: 1.907e-08\n",
      "Epoch 400, Loss: 7.060236e-02, GradNorm: 5.634e-02, LR: 1.907e-08\n",
      "Epoch 410, Loss: 7.060236e-02, GradNorm: 5.635e-02, LR: 1.907e-08\n",
      "Epoch 420, Loss: 7.060237e-02, GradNorm: 5.635e-02, LR: 1.907e-08\n",
      "Epoch 430, Loss: 7.060236e-02, GradNorm: 5.636e-02, LR: 1.907e-08\n",
      "Epoch 440, Loss: 7.060237e-02, GradNorm: 5.637e-02, LR: 1.907e-08\n",
      "Epoch 450, Loss: 7.060237e-02, GradNorm: 5.638e-02, LR: 1.907e-08\n",
      "Epoch 460, Loss: 7.060238e-02, GradNorm: 5.639e-02, LR: 1.907e-08\n",
      "Epoch 470, Loss: 7.060237e-02, GradNorm: 5.639e-02, LR: 1.907e-08\n",
      "Epoch 480, Loss: 7.060238e-02, GradNorm: 5.640e-02, LR: 1.907e-08\n",
      "Epoch 490, Loss: 7.060239e-02, GradNorm: 5.641e-02, LR: 1.907e-08\n"
     ]
    }
   ],
   "source": [
    "import torch\n",
    "import torch.nn as nn\n",
    "from torch.optim.lr_scheduler import ReduceLROnPlateau\n",
    "\n",
    "iteration  = 4\n",
    "lr = 1e-2\n",
    "opt = torch.optim.Adam(g.parameters(), lr=lr)\n",
    "loss_criteria = nn.MSELoss()\n",
    "n_epochs = 500\n",
    "print_every = 10\n",
    "\n",
    "# scheduler: reduce LR by factor of 0.5 if loss plateaus for 10 epochs\n",
    "scheduler = ReduceLROnPlateau(opt, mode='min', factor=0.5, patience=10)\n",
    "\n",
    "g.train()\n",
    "losses = []\n",
    "grad_norms = []\n",
    "for epoch in tqdm(range(n_epochs)):\n",
    "    epoch_loss = 0.0\n",
    "    batch_count = 0\n",
    "    \n",
    "    for x0, x1, ki in loader:\n",
    "        opt.zero_grad()\n",
    "        x = x0.detach()  # don't backprop into x0\n",
    "        for _ in range(iteration):\n",
    "            x = g(x, ki)\n",
    "        loss = loss_criteria(x, x1)\n",
    "        loss.backward()\n",
    "\n",
    "        total_norm = 0.0\n",
    "        for p in g.parameters():\n",
    "            if p.grad is not None:\n",
    "                param_norm = p.grad.data.norm(2)  # L2 norm\n",
    "                total_norm += param_norm.item() ** 2\n",
    "        total_norm = total_norm ** 0.5\n",
    "        # optional: gradient clipping for stability with long unrolls\n",
    "        # torch.nn.utils.clip_grad_norm_(g.parameters(), max_norm=1.0)\n",
    "\n",
    "        opt.step()\n",
    "        \n",
    "        epoch_loss += loss.item()\n",
    "        batch_count += 1\n",
    "\n",
    "    # average over number of batches\n",
    "    epoch_loss /= batch_count\n",
    "    losses.append(epoch_loss)\n",
    "    grad_norms.append(total_norm)\n",
    "\n",
    "    # step scheduler with validation/training loss\n",
    "    scheduler.step(epoch_loss)\n",
    "\n",
    "    if epoch < 5 or epoch % print_every == 0:\n",
    "        print(f\"Epoch {epoch}, Loss: {epoch_loss:.6e}, \"\n",
    "              f\"GradNorm: {total_norm:.3e}, \"\n",
    "              f\"LR: {opt.param_groups[0]['lr']:.3e}\")\n"
   ]
  },
  {
   "cell_type": "code",
   "execution_count": 80,
   "id": "51442b46",
   "metadata": {},
   "outputs": [
    {
     "data": {
      "image/png": "[encoded data removed]",
      "text/plain": [
       "<Figure size 640x480 with 1 Axes>"
      ]
     },
     "metadata": {},
     "output_type": "display_data"
    }
   ],
   "source": [
    "plt.title(\"Loss\", family='serif')\n",
    "plt.xlabel(\"epochs\", family='serif')\n",
    "plt.plot(losses)\n",
    "# plt.yscale('log')\n",
    "plt.show()"
   ]
  },
  {
   "cell_type": "markdown",
   "id": "ed0b5015",
   "metadata": {},
   "source": [
    "## Plot results"
   ]
  },
  {
   "cell_type": "code",
   "execution_count": 70,
   "id": "b64ae240",
   "metadata": {},
   "outputs": [],
   "source": [
    "g_eval = g.eval()\n",
    "\n",
    "with torch.no_grad():\n",
    "    \n",
    "    k_torch = torch.tensor(k,dtype=torch.float32).reshape(-1,1)\n",
    "    g_pred =torch.cat([g_eval(torch.tensor([[xi]],dtype=torch.float32),k_torch).reshape(-1) for xi in x_lin_torch])\n",
    "    # ax1.plot(x_lin_torch, g_pred, label=rf'$\\alpha$={alpha}', linestyle='--', alpha=1, lw=3)"
   ]
  },
  {
   "cell_type": "code",
   "execution_count": 85,
   "id": "fab94a7f",
   "metadata": {},
   "outputs": [
    {
     "data": {
      "image/png": "[encoded data removed]",
      "text/plain": [
       "<Figure size 640x480 with 1 Axes>"
      ]
     },
     "metadata": {},
     "output_type": "display_data"
    }
   ],
   "source": [
    "plt.title(r\"$g$\",family='serif',size=20)\n",
    "plt.xlabel(r\"$x$\")\n",
    "plt.plot(x_lin, g_true_arr,c='black', label=\"true\")\n",
    "plt.plot(x_lin, g_pred,c='blue', alpha = 0.5, lw=4,label=\"pred\")\n",
    "plt.plot(x_lin,x_lin,linestyle='--',c='black',alpha=0.5, label=r\"$g(x)=x$\")\n",
    "plt.legend(prop={'family':'serif'})\n",
    "plt.show()"
   ]
  },
  {
   "cell_type": "code",
   "execution_count": null,
   "id": "f5ad1e84",
   "metadata": {},
   "outputs": [],
   "source": []
  }
 ],
 "metadata": {
  "kernelspec": {
   "display_name": ".venv",
   "language": "python",
   "name": "python3"
  },
  "language_info": {
   "codemirror_mode": {
    "name": "ipython",
    "version": 3
   },
   "file_extension": ".py",
   "mimetype": "text/x-python",
   "name": "python",
   "nbconvert_exporter": "python",
   "pygments_lexer": "ipython3",
   "version": "3.12.11"
  }
 },
 "nbformat": 4,
 "nbformat_minor": 5
}
