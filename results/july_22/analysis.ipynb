{
 "cells": [
  {
   "cell_type": "code",
   "execution_count": 1,
   "id": "b2c3d350-9fb2-412f-a211-c917c41d0132",
   "metadata": {},
   "outputs": [],
   "source": [
    "import pickle"
   ]
  },
  {
   "cell_type": "code",
   "execution_count": 2,
   "id": "21c98106-8e14-4e44-89e7-8981177f5cbe",
   "metadata": {},
   "outputs": [],
   "source": [
    "path = \"seed_1234_noise_0.1_sample_rate_10_lr_0.1_n_epochs_300_f_dim_6_g_dim_2_patience_100_log.pkl\""
   ]
  },
  {
   "cell_type": "code",
   "execution_count": 3,
   "id": "b8047303-67af-47d7-b3e8-bdf133046763",
   "metadata": {},
   "outputs": [],
   "source": [
    "with open(path, 'rb') as file:\n",
    "    log = pickle.load(file)"
   ]
  },
  {
   "cell_type": "code",
   "execution_count": 5,
   "id": "03104341-8d35-4c8f-8622-5c51da916df0",
   "metadata": {},
   "outputs": [
    {
     "data": {
      "text/plain": [
       "dict_keys(['losses', 'times', 'stopping_criteria', 'best_model_epoch', 'method_failures', 'patience_hist'])"
      ]
     },
     "execution_count": 5,
     "metadata": {},
     "output_type": "execute_result"
    }
   ],
   "source": [
    "log.keys()"
   ]
  },
  {
   "cell_type": "code",
   "execution_count": 10,
   "id": "8881bf5a-fd94-41d1-a785-1edba9c5f564",
   "metadata": {},
   "outputs": [
    {
     "data": {
      "text/plain": [
       "[126.30699920654297, 56.581111907958984]"
      ]
     },
     "execution_count": 10,
     "metadata": {},
     "output_type": "execute_result"
    }
   ],
   "source": [
    "log[\"losses\"]"
   ]
  },
  {
   "cell_type": "code",
   "execution_count": null,
   "id": "d61a74f5-087c-4933-9253-62b25a6fc213",
   "metadata": {},
   "outputs": [],
   "source": []
  }
 ],
 "metadata": {
  "kernelspec": {
   "display_name": "Python [conda env:.conda-atscale] *",
   "language": "python",
   "name": "conda-env-.conda-atscale-py"
  },
  "language_info": {
   "codemirror_mode": {
    "name": "ipython",
    "version": 3
   },
   "file_extension": ".py",
   "mimetype": "text/x-python",
   "name": "python",
   "nbconvert_exporter": "python",
   "pygments_lexer": "ipython3",
   "version": "3.11.13"
  }
 },
 "nbformat": 4,
 "nbformat_minor": 5
}
